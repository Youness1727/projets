{
 "cells": [
  {
   "cell_type": "markdown",
   "id": "88f1a078",
   "metadata": {},
   "source": [
    "# <p style=\"text-align: center;\">Optimisez la gestion des données d'une boutique </p>\n",
    "# <p style=\"text-align: center;\">avec Python</p>\n",
    "\n"
   ]
  },
  {
   "cell_type": "markdown",
   "id": "ca204275",
   "metadata": {},
   "source": [
    "# <a name=\"C0\">Sommaire :</a>\n",
    "\n",
    "##  <a href=\"#C1\">Importation des données</a>\n",
    " \n",
    "\n",
    "##  <a href=\"#C2\">Partie 1 : Nettoyage et préparation des données</a>\n",
    "#### <a href=\"#C3\">     1.1. Traitement du dataframe \"Web\" </a>\n",
    "#### <a href=\"#C4\">     1.2. Traitement du dataframe \"erp\" </a>\n",
    "#### <a href=\"#C5\">     1.3. Traitement du dataframe \"liaison\" </a>\n",
    "\n",
    "## <a href=\"#C6\">Partie 2 : Rapprochement des DataFrames</a>\n",
    "#### <a href=\"#C7\">2.1. Fusion de \"web\" et de \"liaison\" </a>\n",
    "#### <a href=\"#C8\">2.2. Fusion de \"web\" de \"liaison\" et de \"erp\" </a>\n",
    "\n",
    "##  <a href=\"#C9\">Partie 3 : Analyse des données de vente </a>\n",
    "####  <a href=\"#C10\">3.1. Séléction des données de vente </a>\n",
    "####  <a href=\"#C11\"> 3.2. Etude du prix </a>\n",
    "####  <a href=\"#C12\"> 3.3. Détermination des prix aberrants </a>\n",
    "####  <a href=\"#C13\"> 3.4. Chiffre d'affaire est catégories de prix </a>\n",
    "####  <a href=\"#C14\"> 3.5. Recherche de correlation entre les variables </a>\n"
   ]
  },
  {
   "cell_type": "markdown",
   "id": "72aea5fd",
   "metadata": {},
   "source": [
    "Le travail qui suit consistera à nettoyer, préparer et à imputer des données manquantes. Ceci est dans le but d'effectuer un rapprochement entre le dataframe \"web\", contenant les informations des produits commercialisés en ligne et le dataframe \"erp\", contenant les informations de vente de l'ensemble de ces produits.\n",
    "\n",
    "Le dataframe \"liaison\" jouera ici le rôle d'une table d'association entre les deux autres dataframes. On s'assurera de la désignation d'une clé primaire unique pour chacun des dataframes. Ces clés feront office de clés étrangères et leur ensemble de clé primaire du dataframe 'liaison\".\n"
   ]
  },
  {
   "cell_type": "markdown",
   "id": "ae3bd0df",
   "metadata": {},
   "source": [
    "# <a name=\"C1\">Importation des données :</a> &emsp;&emsp;&emsp;&emsp;&emsp;&emsp;&emsp;&emsp;&emsp;&emsp;&emsp;&emsp;&emsp;&emsp;&emsp;&emsp;&emsp;&emsp;&emsp;&emsp;&emsp;&emsp;&emsp;<a href=\"#C0\">Top </a>  "
   ]
  },
  {
   "cell_type": "code",
   "execution_count": 1,
   "id": "27528072",
   "metadata": {},
   "outputs": [],
   "source": [
    "# Importation des librairies :\n",
    "import pandas as pd\n",
    "import numpy as np\n",
    "import seaborn as sns\n",
    "import matplotlib.pyplot as plt\n",
    "import warnings\n",
    "warnings.simplefilter(\"ignore\")"
   ]
  },
  {
   "cell_type": "code",
   "execution_count": 2,
   "id": "c9e319d9",
   "metadata": {},
   "outputs": [],
   "source": [
    "# Importation des données :\n",
    "erp = pd.read_excel('erp.xlsx')\n",
    "liaison = pd.read_excel('liaison.xlsx')\n",
    "web = pd.read_excel('web.xlsx')"
   ]
  },
  {
   "cell_type": "markdown",
   "id": "1aea9618",
   "metadata": {},
   "source": [
    "# <a name=\"C2\"> Partie 1 : Nettoyage et préparation des données :</a> &emsp;&emsp;&emsp;&emsp;&emsp;&emsp;&emsp;&emsp;&emsp;&emsp;&emsp;&emsp;<a href=\"#C0\">Top </a>  "
   ]
  },
  {
   "cell_type": "markdown",
   "id": "b7c903b3",
   "metadata": {},
   "source": [
    "## <a name=\"C3\">1.1. Traitement du dataframe \"Web\" :</a> &emsp;&emsp;&emsp;&emsp;&emsp;&emsp;&emsp;&emsp;&emsp;&emsp;&emsp;&emsp;&emsp;&emsp;&emsp;&emsp;&emsp;&emsp;&emsp;&emsp;&emsp;&emsp;&emsp;&emsp;&emsp;<a href=\"#C0\">Top </a>  "
   ]
  },
  {
   "cell_type": "markdown",
   "id": "dc143b01",
   "metadata": {},
   "source": [
    "#### Affichage des cinq premières lignes:"
   ]
  },
  {
   "cell_type": "code",
   "execution_count": 3,
   "id": "1c669685",
   "metadata": {},
   "outputs": [
    {
     "data": {
      "text/html": [
       "<div>\n",
       "<style scoped>\n",
       "    .dataframe tbody tr th:only-of-type {\n",
       "        vertical-align: middle;\n",
       "    }\n",
       "\n",
       "    .dataframe tbody tr th {\n",
       "        vertical-align: top;\n",
       "    }\n",
       "\n",
       "    .dataframe thead th {\n",
       "        text-align: right;\n",
       "    }\n",
       "</style>\n",
       "<table border=\"1\" class=\"dataframe\">\n",
       "  <thead>\n",
       "    <tr style=\"text-align: right;\">\n",
       "      <th></th>\n",
       "      <th>sku</th>\n",
       "      <th>virtual</th>\n",
       "      <th>downloadable</th>\n",
       "      <th>rating_count</th>\n",
       "      <th>average_rating</th>\n",
       "      <th>total_sales</th>\n",
       "      <th>tax_status</th>\n",
       "      <th>tax_class</th>\n",
       "      <th>post_author</th>\n",
       "      <th>post_date</th>\n",
       "      <th>...</th>\n",
       "      <th>post_name</th>\n",
       "      <th>post_modified</th>\n",
       "      <th>post_modified_gmt</th>\n",
       "      <th>post_content_filtered</th>\n",
       "      <th>post_parent</th>\n",
       "      <th>guid</th>\n",
       "      <th>menu_order</th>\n",
       "      <th>post_type</th>\n",
       "      <th>post_mime_type</th>\n",
       "      <th>comment_count</th>\n",
       "    </tr>\n",
       "  </thead>\n",
       "  <tbody>\n",
       "    <tr>\n",
       "      <th>0</th>\n",
       "      <td>bon-cadeau-25-euros</td>\n",
       "      <td>0</td>\n",
       "      <td>0</td>\n",
       "      <td>0</td>\n",
       "      <td>0.0</td>\n",
       "      <td>10.0</td>\n",
       "      <td>taxable</td>\n",
       "      <td>NaN</td>\n",
       "      <td>1.0</td>\n",
       "      <td>2018-06-01 13:53:46</td>\n",
       "      <td>...</td>\n",
       "      <td>bon-cadeau-de-25-euros</td>\n",
       "      <td>2018-06-01 14:13:57</td>\n",
       "      <td>2018-06-01 12:13:57</td>\n",
       "      <td>NaN</td>\n",
       "      <td>0.0</td>\n",
       "      <td>https://www.bottle-neck.fr/?post_type=product&amp;...</td>\n",
       "      <td>0.0</td>\n",
       "      <td>product</td>\n",
       "      <td>NaN</td>\n",
       "      <td>0.0</td>\n",
       "    </tr>\n",
       "    <tr>\n",
       "      <th>1</th>\n",
       "      <td>15298</td>\n",
       "      <td>0</td>\n",
       "      <td>0</td>\n",
       "      <td>0</td>\n",
       "      <td>0.0</td>\n",
       "      <td>6.0</td>\n",
       "      <td>taxable</td>\n",
       "      <td>NaN</td>\n",
       "      <td>2.0</td>\n",
       "      <td>2018-02-08 12:58:52</td>\n",
       "      <td>...</td>\n",
       "      <td>pierre-jean-villa-saint-joseph-preface-2018</td>\n",
       "      <td>2019-12-30 09:30:29</td>\n",
       "      <td>2019-12-30 08:30:29</td>\n",
       "      <td>NaN</td>\n",
       "      <td>0.0</td>\n",
       "      <td>https://www.bottle-neck.fr/?post_type=product&amp;...</td>\n",
       "      <td>0.0</td>\n",
       "      <td>product</td>\n",
       "      <td>NaN</td>\n",
       "      <td>0.0</td>\n",
       "    </tr>\n",
       "    <tr>\n",
       "      <th>2</th>\n",
       "      <td>15296</td>\n",
       "      <td>0</td>\n",
       "      <td>0</td>\n",
       "      <td>0</td>\n",
       "      <td>0.0</td>\n",
       "      <td>0.0</td>\n",
       "      <td>taxable</td>\n",
       "      <td>NaN</td>\n",
       "      <td>2.0</td>\n",
       "      <td>2018-02-08 13:49:41</td>\n",
       "      <td>...</td>\n",
       "      <td>pierre-jean-villa-saint-joseph-tilde-2017</td>\n",
       "      <td>2019-12-21 09:00:17</td>\n",
       "      <td>2019-12-21 08:00:17</td>\n",
       "      <td>NaN</td>\n",
       "      <td>0.0</td>\n",
       "      <td>https://www.bottle-neck.fr/?post_type=product&amp;...</td>\n",
       "      <td>0.0</td>\n",
       "      <td>product</td>\n",
       "      <td>NaN</td>\n",
       "      <td>0.0</td>\n",
       "    </tr>\n",
       "    <tr>\n",
       "      <th>3</th>\n",
       "      <td>15300</td>\n",
       "      <td>0</td>\n",
       "      <td>0</td>\n",
       "      <td>0</td>\n",
       "      <td>0.0</td>\n",
       "      <td>0.0</td>\n",
       "      <td>taxable</td>\n",
       "      <td>NaN</td>\n",
       "      <td>2.0</td>\n",
       "      <td>2018-02-08 14:08:36</td>\n",
       "      <td>...</td>\n",
       "      <td>pierre-jean-villa-croze-hermitage-accroche-coe...</td>\n",
       "      <td>2020-06-26 18:15:03</td>\n",
       "      <td>2020-06-26 16:15:03</td>\n",
       "      <td>NaN</td>\n",
       "      <td>0.0</td>\n",
       "      <td>https://www.bottle-neck.fr/?post_type=product&amp;...</td>\n",
       "      <td>0.0</td>\n",
       "      <td>product</td>\n",
       "      <td>NaN</td>\n",
       "      <td>0.0</td>\n",
       "    </tr>\n",
       "    <tr>\n",
       "      <th>4</th>\n",
       "      <td>19814</td>\n",
       "      <td>0</td>\n",
       "      <td>0</td>\n",
       "      <td>0</td>\n",
       "      <td>0.0</td>\n",
       "      <td>3.0</td>\n",
       "      <td>taxable</td>\n",
       "      <td>NaN</td>\n",
       "      <td>2.0</td>\n",
       "      <td>2018-02-09 14:01:05</td>\n",
       "      <td>...</td>\n",
       "      <td>pierre-jean-villa-igp-gamine-2018</td>\n",
       "      <td>2020-01-04 16:36:01</td>\n",
       "      <td>2020-01-04 15:36:01</td>\n",
       "      <td>NaN</td>\n",
       "      <td>0.0</td>\n",
       "      <td>https://www.bottle-neck.fr/?post_type=product&amp;...</td>\n",
       "      <td>0.0</td>\n",
       "      <td>product</td>\n",
       "      <td>NaN</td>\n",
       "      <td>0.0</td>\n",
       "    </tr>\n",
       "  </tbody>\n",
       "</table>\n",
       "<p>5 rows × 28 columns</p>\n",
       "</div>"
      ],
      "text/plain": [
       "                   sku  virtual  downloadable  rating_count  average_rating  \\\n",
       "0  bon-cadeau-25-euros        0             0             0             0.0   \n",
       "1                15298        0             0             0             0.0   \n",
       "2                15296        0             0             0             0.0   \n",
       "3                15300        0             0             0             0.0   \n",
       "4                19814        0             0             0             0.0   \n",
       "\n",
       "   total_sales tax_status  tax_class  post_author           post_date  ...  \\\n",
       "0         10.0    taxable        NaN          1.0 2018-06-01 13:53:46  ...   \n",
       "1          6.0    taxable        NaN          2.0 2018-02-08 12:58:52  ...   \n",
       "2          0.0    taxable        NaN          2.0 2018-02-08 13:49:41  ...   \n",
       "3          0.0    taxable        NaN          2.0 2018-02-08 14:08:36  ...   \n",
       "4          3.0    taxable        NaN          2.0 2018-02-09 14:01:05  ...   \n",
       "\n",
       "                                           post_name       post_modified  \\\n",
       "0                             bon-cadeau-de-25-euros 2018-06-01 14:13:57   \n",
       "1        pierre-jean-villa-saint-joseph-preface-2018 2019-12-30 09:30:29   \n",
       "2          pierre-jean-villa-saint-joseph-tilde-2017 2019-12-21 09:00:17   \n",
       "3  pierre-jean-villa-croze-hermitage-accroche-coe... 2020-06-26 18:15:03   \n",
       "4                  pierre-jean-villa-igp-gamine-2018 2020-01-04 16:36:01   \n",
       "\n",
       "    post_modified_gmt post_content_filtered post_parent  \\\n",
       "0 2018-06-01 12:13:57                   NaN         0.0   \n",
       "1 2019-12-30 08:30:29                   NaN         0.0   \n",
       "2 2019-12-21 08:00:17                   NaN         0.0   \n",
       "3 2020-06-26 16:15:03                   NaN         0.0   \n",
       "4 2020-01-04 15:36:01                   NaN         0.0   \n",
       "\n",
       "                                                guid menu_order  post_type  \\\n",
       "0  https://www.bottle-neck.fr/?post_type=product&...        0.0    product   \n",
       "1  https://www.bottle-neck.fr/?post_type=product&...        0.0    product   \n",
       "2  https://www.bottle-neck.fr/?post_type=product&...        0.0    product   \n",
       "3  https://www.bottle-neck.fr/?post_type=product&...        0.0    product   \n",
       "4  https://www.bottle-neck.fr/?post_type=product&...        0.0    product   \n",
       "\n",
       "  post_mime_type comment_count  \n",
       "0            NaN           0.0  \n",
       "1            NaN           0.0  \n",
       "2            NaN           0.0  \n",
       "3            NaN           0.0  \n",
       "4            NaN           0.0  \n",
       "\n",
       "[5 rows x 28 columns]"
      ]
     },
     "execution_count": 3,
     "metadata": {},
     "output_type": "execute_result"
    }
   ],
   "source": [
    "web.head()"
   ]
  },
  {
   "cell_type": "markdown",
   "id": "f6469fcd",
   "metadata": {},
   "source": [
    "#### Affichage des informations:"
   ]
  },
  {
   "cell_type": "code",
   "execution_count": 4,
   "id": "7fc9f328",
   "metadata": {},
   "outputs": [
    {
     "name": "stdout",
     "output_type": "stream",
     "text": [
      "<class 'pandas.core.frame.DataFrame'>\n",
      "RangeIndex: 1513 entries, 0 to 1512\n",
      "Data columns (total 28 columns):\n",
      " #   Column                 Non-Null Count  Dtype         \n",
      "---  ------                 --------------  -----         \n",
      " 0   sku                    1428 non-null   object        \n",
      " 1   virtual                1513 non-null   int64         \n",
      " 2   downloadable           1513 non-null   int64         \n",
      " 3   rating_count           1513 non-null   int64         \n",
      " 4   average_rating         1430 non-null   float64       \n",
      " 5   total_sales            1430 non-null   float64       \n",
      " 6   tax_status             716 non-null    object        \n",
      " 7   tax_class              0 non-null      float64       \n",
      " 8   post_author            1430 non-null   float64       \n",
      " 9   post_date              1430 non-null   datetime64[ns]\n",
      " 10  post_date_gmt          1430 non-null   datetime64[ns]\n",
      " 11  post_content           0 non-null      float64       \n",
      " 12  post_title             1430 non-null   object        \n",
      " 13  post_excerpt           716 non-null    object        \n",
      " 14  post_status            1430 non-null   object        \n",
      " 15  comment_status         1430 non-null   object        \n",
      " 16  ping_status            1430 non-null   object        \n",
      " 17  post_password          0 non-null      float64       \n",
      " 18  post_name              1430 non-null   object        \n",
      " 19  post_modified          1430 non-null   datetime64[ns]\n",
      " 20  post_modified_gmt      1430 non-null   datetime64[ns]\n",
      " 21  post_content_filtered  0 non-null      float64       \n",
      " 22  post_parent            1430 non-null   float64       \n",
      " 23  guid                   1430 non-null   object        \n",
      " 24  menu_order             1430 non-null   float64       \n",
      " 25  post_type              1430 non-null   object        \n",
      " 26  post_mime_type         714 non-null    object        \n",
      " 27  comment_count          1430 non-null   float64       \n",
      "dtypes: datetime64[ns](4), float64(10), int64(3), object(11)\n",
      "memory usage: 331.1+ KB\n"
     ]
    }
   ],
   "source": [
    "web.info()"
   ]
  },
  {
   "cell_type": "markdown",
   "id": "139c3c6c",
   "metadata": {},
   "source": [
    "#### Suppression des colonnes entièrement vides:"
   ]
  },
  {
   "cell_type": "markdown",
   "id": "62266217",
   "metadata": {},
   "source": [
    "les colonnes \" tax_class\", \"post_content\", \"post_password\" et \"post_content_filtered\" ne contiennent aucune information. Nous allons procéder à leur supression."
   ]
  },
  {
   "cell_type": "code",
   "execution_count": 5,
   "id": "f7ec56fc",
   "metadata": {},
   "outputs": [],
   "source": [
    "for column in web.columns :\n",
    "    if web[column].isna().sum() == len(web) :\n",
    "         web = web.drop(column, axis = 1) "
   ]
  },
  {
   "cell_type": "code",
   "execution_count": 6,
   "id": "13d8f104",
   "metadata": {},
   "outputs": [
    {
     "name": "stdout",
     "output_type": "stream",
     "text": [
      "<class 'pandas.core.frame.DataFrame'>\n",
      "RangeIndex: 1513 entries, 0 to 1512\n",
      "Data columns (total 24 columns):\n",
      " #   Column             Non-Null Count  Dtype         \n",
      "---  ------             --------------  -----         \n",
      " 0   sku                1428 non-null   object        \n",
      " 1   virtual            1513 non-null   int64         \n",
      " 2   downloadable       1513 non-null   int64         \n",
      " 3   rating_count       1513 non-null   int64         \n",
      " 4   average_rating     1430 non-null   float64       \n",
      " 5   total_sales        1430 non-null   float64       \n",
      " 6   tax_status         716 non-null    object        \n",
      " 7   post_author        1430 non-null   float64       \n",
      " 8   post_date          1430 non-null   datetime64[ns]\n",
      " 9   post_date_gmt      1430 non-null   datetime64[ns]\n",
      " 10  post_title         1430 non-null   object        \n",
      " 11  post_excerpt       716 non-null    object        \n",
      " 12  post_status        1430 non-null   object        \n",
      " 13  comment_status     1430 non-null   object        \n",
      " 14  ping_status        1430 non-null   object        \n",
      " 15  post_name          1430 non-null   object        \n",
      " 16  post_modified      1430 non-null   datetime64[ns]\n",
      " 17  post_modified_gmt  1430 non-null   datetime64[ns]\n",
      " 18  post_parent        1430 non-null   float64       \n",
      " 19  guid               1430 non-null   object        \n",
      " 20  menu_order         1430 non-null   float64       \n",
      " 21  post_type          1430 non-null   object        \n",
      " 22  post_mime_type     714 non-null    object        \n",
      " 23  comment_count      1430 non-null   float64       \n",
      "dtypes: datetime64[ns](4), float64(6), int64(3), object(11)\n",
      "memory usage: 283.8+ KB\n"
     ]
    }
   ],
   "source": [
    "web.info()"
   ]
  },
  {
   "cell_type": "markdown",
   "id": "0ddcc351",
   "metadata": {},
   "source": [
    "#### Renommage de la colonne \"sku\" par \"id_web\" :"
   ]
  },
  {
   "cell_type": "markdown",
   "id": "282293a3",
   "metadata": {},
   "source": [
    "Pour faire le lien avec la table \"liaison\" nous devons concerver la même nomencalture des clés. La colonne \"sku\" sera renommer \"id_web\". Elle sera par la suite la clé primaire de la table \"web\". "
   ]
  },
  {
   "cell_type": "code",
   "execution_count": 7,
   "id": "8b3295b1",
   "metadata": {},
   "outputs": [],
   "source": [
    "web = web.rename(columns = {'sku' : 'id_web'}) "
   ]
  },
  {
   "cell_type": "markdown",
   "id": "8d9bdeed",
   "metadata": {},
   "source": [
    "#### Suppression des lignes avec un \"id_web\" manquant :"
   ]
  },
  {
   "cell_type": "markdown",
   "id": "437f9cc7",
   "metadata": {},
   "source": [
    "Dans le soucis d'avoir des \"id_web\" uniques on va suprimer ceux qui manquent."
   ]
  },
  {
   "cell_type": "code",
   "execution_count": 8,
   "id": "651c7736",
   "metadata": {},
   "outputs": [
    {
     "data": {
      "text/plain": [
       "85"
      ]
     },
     "execution_count": 8,
     "metadata": {},
     "output_type": "execute_result"
    }
   ],
   "source": [
    "web.id_web.isna().sum() # Nombre d'\"id_web\" manquants."
   ]
  },
  {
   "cell_type": "code",
   "execution_count": 9,
   "id": "49bc0e39",
   "metadata": {
    "scrolled": true
   },
   "outputs": [
    {
     "data": {
      "text/html": [
       "<div>\n",
       "<style scoped>\n",
       "    .dataframe tbody tr th:only-of-type {\n",
       "        vertical-align: middle;\n",
       "    }\n",
       "\n",
       "    .dataframe tbody tr th {\n",
       "        vertical-align: top;\n",
       "    }\n",
       "\n",
       "    .dataframe thead th {\n",
       "        text-align: right;\n",
       "    }\n",
       "</style>\n",
       "<table border=\"1\" class=\"dataframe\">\n",
       "  <thead>\n",
       "    <tr style=\"text-align: right;\">\n",
       "      <th></th>\n",
       "      <th>id_web</th>\n",
       "      <th>virtual</th>\n",
       "      <th>downloadable</th>\n",
       "      <th>rating_count</th>\n",
       "      <th>average_rating</th>\n",
       "      <th>total_sales</th>\n",
       "      <th>tax_status</th>\n",
       "      <th>post_author</th>\n",
       "      <th>post_date</th>\n",
       "      <th>post_date_gmt</th>\n",
       "      <th>...</th>\n",
       "      <th>ping_status</th>\n",
       "      <th>post_name</th>\n",
       "      <th>post_modified</th>\n",
       "      <th>post_modified_gmt</th>\n",
       "      <th>post_parent</th>\n",
       "      <th>guid</th>\n",
       "      <th>menu_order</th>\n",
       "      <th>post_type</th>\n",
       "      <th>post_mime_type</th>\n",
       "      <th>comment_count</th>\n",
       "    </tr>\n",
       "  </thead>\n",
       "  <tbody>\n",
       "    <tr>\n",
       "      <th>470</th>\n",
       "      <td>NaN</td>\n",
       "      <td>0</td>\n",
       "      <td>0</td>\n",
       "      <td>0</td>\n",
       "      <td>0.0</td>\n",
       "      <td>0.0</td>\n",
       "      <td>taxable</td>\n",
       "      <td>2.0</td>\n",
       "      <td>2018-07-31 12:07:23</td>\n",
       "      <td>2018-07-31 10:07:23</td>\n",
       "      <td>...</td>\n",
       "      <td>closed</td>\n",
       "      <td>pierre-jean-villa-cote-rotie-fongeant-2017</td>\n",
       "      <td>2019-11-02 13:24:15</td>\n",
       "      <td>2019-11-02 12:24:15</td>\n",
       "      <td>0.0</td>\n",
       "      <td>https://www.bottle-neck.fr/?post_type=product&amp;...</td>\n",
       "      <td>0.0</td>\n",
       "      <td>product</td>\n",
       "      <td>NaN</td>\n",
       "      <td>0.0</td>\n",
       "    </tr>\n",
       "    <tr>\n",
       "      <th>471</th>\n",
       "      <td>NaN</td>\n",
       "      <td>0</td>\n",
       "      <td>0</td>\n",
       "      <td>0</td>\n",
       "      <td>0.0</td>\n",
       "      <td>0.0</td>\n",
       "      <td>taxable</td>\n",
       "      <td>2.0</td>\n",
       "      <td>2018-08-08 11:23:43</td>\n",
       "      <td>2018-08-08 09:23:43</td>\n",
       "      <td>...</td>\n",
       "      <td>closed</td>\n",
       "      <td>pierre-jean-villa-condrieu-suspendu-2018</td>\n",
       "      <td>2019-11-02 13:24:01</td>\n",
       "      <td>2019-11-02 12:24:01</td>\n",
       "      <td>0.0</td>\n",
       "      <td>https://www.bottle-neck.fr/?post_type=product&amp;...</td>\n",
       "      <td>0.0</td>\n",
       "      <td>product</td>\n",
       "      <td>NaN</td>\n",
       "      <td>0.0</td>\n",
       "    </tr>\n",
       "  </tbody>\n",
       "</table>\n",
       "<p>2 rows × 24 columns</p>\n",
       "</div>"
      ],
      "text/plain": [
       "    id_web  virtual  downloadable  rating_count  average_rating  total_sales  \\\n",
       "470    NaN        0             0             0             0.0          0.0   \n",
       "471    NaN        0             0             0             0.0          0.0   \n",
       "\n",
       "    tax_status  post_author           post_date       post_date_gmt  ...  \\\n",
       "470    taxable          2.0 2018-07-31 12:07:23 2018-07-31 10:07:23  ...   \n",
       "471    taxable          2.0 2018-08-08 11:23:43 2018-08-08 09:23:43  ...   \n",
       "\n",
       "    ping_status                                   post_name  \\\n",
       "470      closed  pierre-jean-villa-cote-rotie-fongeant-2017   \n",
       "471      closed    pierre-jean-villa-condrieu-suspendu-2018   \n",
       "\n",
       "          post_modified   post_modified_gmt post_parent  \\\n",
       "470 2019-11-02 13:24:15 2019-11-02 12:24:15         0.0   \n",
       "471 2019-11-02 13:24:01 2019-11-02 12:24:01         0.0   \n",
       "\n",
       "                                                  guid menu_order post_type  \\\n",
       "470  https://www.bottle-neck.fr/?post_type=product&...        0.0   product   \n",
       "471  https://www.bottle-neck.fr/?post_type=product&...        0.0   product   \n",
       "\n",
       "     post_mime_type comment_count  \n",
       "470             NaN           0.0  \n",
       "471             NaN           0.0  \n",
       "\n",
       "[2 rows x 24 columns]"
      ]
     },
     "execution_count": 9,
     "metadata": {},
     "output_type": "execute_result"
    }
   ],
   "source": [
    "# Enregistrement comportants des données et auxquels il manque un identifiant\n",
    "web_id_web_nul = web[web.id_web.isna()]\n",
    "web_id_web_nul[web_id_web_nul.count(axis = 1) > 3]"
   ]
  },
  {
   "cell_type": "code",
   "execution_count": 10,
   "id": "7fa697fe",
   "metadata": {},
   "outputs": [],
   "source": [
    "index_id_web_null = web[web.id_web.isna()].index # Liste des index des \"id_web\" manquants.\n",
    "web = web.drop(index_id_web_null) # Suppression des enregistrement correspondants aux \"id_web\" manquants."
   ]
  },
  {
   "cell_type": "code",
   "execution_count": 11,
   "id": "1efabcea",
   "metadata": {},
   "outputs": [
    {
     "name": "stdout",
     "output_type": "stream",
     "text": [
      "<class 'pandas.core.frame.DataFrame'>\n",
      "Int64Index: 1428 entries, 0 to 1512\n",
      "Data columns (total 24 columns):\n",
      " #   Column             Non-Null Count  Dtype         \n",
      "---  ------             --------------  -----         \n",
      " 0   id_web             1428 non-null   object        \n",
      " 1   virtual            1428 non-null   int64         \n",
      " 2   downloadable       1428 non-null   int64         \n",
      " 3   rating_count       1428 non-null   int64         \n",
      " 4   average_rating     1428 non-null   float64       \n",
      " 5   total_sales        1428 non-null   float64       \n",
      " 6   tax_status         714 non-null    object        \n",
      " 7   post_author        1428 non-null   float64       \n",
      " 8   post_date          1428 non-null   datetime64[ns]\n",
      " 9   post_date_gmt      1428 non-null   datetime64[ns]\n",
      " 10  post_title         1428 non-null   object        \n",
      " 11  post_excerpt       714 non-null    object        \n",
      " 12  post_status        1428 non-null   object        \n",
      " 13  comment_status     1428 non-null   object        \n",
      " 14  ping_status        1428 non-null   object        \n",
      " 15  post_name          1428 non-null   object        \n",
      " 16  post_modified      1428 non-null   datetime64[ns]\n",
      " 17  post_modified_gmt  1428 non-null   datetime64[ns]\n",
      " 18  post_parent        1428 non-null   float64       \n",
      " 19  guid               1428 non-null   object        \n",
      " 20  menu_order         1428 non-null   float64       \n",
      " 21  post_type          1428 non-null   object        \n",
      " 22  post_mime_type     714 non-null    object        \n",
      " 23  comment_count      1428 non-null   float64       \n",
      "dtypes: datetime64[ns](4), float64(6), int64(3), object(11)\n",
      "memory usage: 278.9+ KB\n"
     ]
    }
   ],
   "source": [
    "web.info()"
   ]
  },
  {
   "cell_type": "markdown",
   "id": "dc755f68",
   "metadata": {},
   "source": [
    "#### Informations sur les valeurs non-nulles uniques dans chaque colonne :"
   ]
  },
  {
   "cell_type": "code",
   "execution_count": 12,
   "id": "50a2bdaa",
   "metadata": {},
   "outputs": [
    {
     "data": {
      "text/plain": [
       "id_web                714\n",
       "virtual                 1\n",
       "downloadable            1\n",
       "rating_count            1\n",
       "average_rating          1\n",
       "total_sales            41\n",
       "tax_status              1\n",
       "post_author             2\n",
       "post_date             714\n",
       "post_date_gmt         714\n",
       "post_title            711\n",
       "post_excerpt          677\n",
       "post_status             1\n",
       "comment_status          1\n",
       "ping_status             1\n",
       "post_name             714\n",
       "post_modified         587\n",
       "post_modified_gmt     587\n",
       "post_parent             1\n",
       "guid                 1428\n",
       "menu_order              1\n",
       "post_type               2\n",
       "post_mime_type          1\n",
       "comment_count           1\n",
       "dtype: int64"
      ]
     },
     "execution_count": 12,
     "metadata": {},
     "output_type": "execute_result"
    }
   ],
   "source": [
    "web.nunique()"
   ]
  },
  {
   "cell_type": "markdown",
   "id": "698852d2",
   "metadata": {},
   "source": [
    "Le nombre d'\"id_web\" uniques est égal à la moitié du nombre d'enregistrements total. On va procéder à la suppression des enregistrements avec un \"id_web\" en double, mais avant, nous devons traiter les valeurs manquantes des colonnes \"post_mime_type\", \"tax_status\" et \"post_excerpt\" car on risque de perdre ces informations."
   ]
  },
  {
   "cell_type": "markdown",
   "id": "09e16b9b",
   "metadata": {},
   "source": [
    "#### Traitement des colonnes \"post_mime_type\" et \"tax_status\":"
   ]
  },
  {
   "cell_type": "markdown",
   "id": "808f7532",
   "metadata": {},
   "source": [
    "Remplacement des valeurs manquantes de la colonne \"post_mime_type\" par sa valeur modale."
   ]
  },
  {
   "cell_type": "code",
   "execution_count": 13,
   "id": "41004c37",
   "metadata": {},
   "outputs": [],
   "source": [
    "tax_status_mode = web.tax_status.mode()[0]\n",
    "web.tax_status = web.tax_status.fillna(tax_status_mode) # Remplacement des valeurs manquantes par la valeur modale."
   ]
  },
  {
   "cell_type": "markdown",
   "id": "8d522c47",
   "metadata": {},
   "source": [
    "Remplacement des valeurs manquantes de la colonne \"tax_status\" par sa valeur modale."
   ]
  },
  {
   "cell_type": "code",
   "execution_count": 14,
   "id": "3a51850a",
   "metadata": {},
   "outputs": [],
   "source": [
    "post_mime_mode = web.post_mime_type.mode()[0]\n",
    "web.post_mime_type = web.post_mime_type.fillna(post_mime_mode) # Remplacement des valeurs manquantes par la valeur modale."
   ]
  },
  {
   "cell_type": "markdown",
   "id": "feaa5ece",
   "metadata": {},
   "source": [
    "Selection des enregistrements avec un \"id_web\" unique et sans valeurs manquantes pour les autres variables."
   ]
  },
  {
   "cell_type": "code",
   "execution_count": 15,
   "id": "e8a56066",
   "metadata": {},
   "outputs": [],
   "source": [
    "# Dataframe avec \"id_web\" unique :\n",
    "web_id_web_dupli = web[web.id_web.duplicated()]\n",
    "# Selection qui permet de concerver les valeurs de la colonne \"post_excerpt\" ;\n",
    "web = web[(web.id_web.isin(web_id_web_dupli.id_web)) & (web.post_excerpt.notnull())] "
   ]
  },
  {
   "cell_type": "markdown",
   "id": "d2a278ef",
   "metadata": {},
   "source": [
    "La colonne \"post_name\" contient la nomenclature unique des produits vendus. On va supprimer les traits d'unions qui séparent les mots."
   ]
  },
  {
   "cell_type": "code",
   "execution_count": 16,
   "id": "f3a1d6a4",
   "metadata": {},
   "outputs": [],
   "source": [
    "web['post_name'] = web['post_name'].str.replace('-',' ')"
   ]
  },
  {
   "cell_type": "markdown",
   "id": "961daada",
   "metadata": {},
   "source": [
    "Nous obtenant ainsi un dataframe avec une clé \"id_web\" unique et sans valeurs manquantes. "
   ]
  },
  {
   "cell_type": "code",
   "execution_count": 17,
   "id": "9ffc0a8f",
   "metadata": {
    "scrolled": false
   },
   "outputs": [
    {
     "data": {
      "text/html": [
       "<div>\n",
       "<style scoped>\n",
       "    .dataframe tbody tr th:only-of-type {\n",
       "        vertical-align: middle;\n",
       "    }\n",
       "\n",
       "    .dataframe tbody tr th {\n",
       "        vertical-align: top;\n",
       "    }\n",
       "\n",
       "    .dataframe thead th {\n",
       "        text-align: right;\n",
       "    }\n",
       "</style>\n",
       "<table border=\"1\" class=\"dataframe\">\n",
       "  <thead>\n",
       "    <tr style=\"text-align: right;\">\n",
       "      <th></th>\n",
       "      <th>id_web</th>\n",
       "      <th>virtual</th>\n",
       "      <th>downloadable</th>\n",
       "      <th>rating_count</th>\n",
       "      <th>average_rating</th>\n",
       "      <th>total_sales</th>\n",
       "      <th>tax_status</th>\n",
       "      <th>post_author</th>\n",
       "      <th>post_date</th>\n",
       "      <th>post_date_gmt</th>\n",
       "      <th>...</th>\n",
       "      <th>ping_status</th>\n",
       "      <th>post_name</th>\n",
       "      <th>post_modified</th>\n",
       "      <th>post_modified_gmt</th>\n",
       "      <th>post_parent</th>\n",
       "      <th>guid</th>\n",
       "      <th>menu_order</th>\n",
       "      <th>post_type</th>\n",
       "      <th>post_mime_type</th>\n",
       "      <th>comment_count</th>\n",
       "    </tr>\n",
       "  </thead>\n",
       "  <tbody>\n",
       "    <tr>\n",
       "      <th>762</th>\n",
       "      <td>16135</td>\n",
       "      <td>0</td>\n",
       "      <td>0</td>\n",
       "      <td>0</td>\n",
       "      <td>0.0</td>\n",
       "      <td>5.0</td>\n",
       "      <td>taxable</td>\n",
       "      <td>2.0</td>\n",
       "      <td>2020-04-25 13:22:38</td>\n",
       "      <td>2020-04-25 11:22:38</td>\n",
       "      <td>...</td>\n",
       "      <td>closed</td>\n",
       "      <td>mouthes le bihan aime chai 2015</td>\n",
       "      <td>2020-08-26 17:35:03</td>\n",
       "      <td>2020-08-26 15:35:03</td>\n",
       "      <td>0.0</td>\n",
       "      <td>https://www.bottle-neck.fr/?post_type=product&amp;...</td>\n",
       "      <td>0.0</td>\n",
       "      <td>product</td>\n",
       "      <td>image/jpeg</td>\n",
       "      <td>0.0</td>\n",
       "    </tr>\n",
       "    <tr>\n",
       "      <th>767</th>\n",
       "      <td>15891</td>\n",
       "      <td>0</td>\n",
       "      <td>0</td>\n",
       "      <td>0</td>\n",
       "      <td>0.0</td>\n",
       "      <td>0.0</td>\n",
       "      <td>taxable</td>\n",
       "      <td>2.0</td>\n",
       "      <td>2020-05-02 14:53:40</td>\n",
       "      <td>2020-05-02 12:53:40</td>\n",
       "      <td>...</td>\n",
       "      <td>closed</td>\n",
       "      <td>camin larredya jurancon sec la virada 2018</td>\n",
       "      <td>2020-08-26 17:35:02</td>\n",
       "      <td>2020-08-26 15:35:02</td>\n",
       "      <td>0.0</td>\n",
       "      <td>https://www.bottle-neck.fr/?post_type=product&amp;...</td>\n",
       "      <td>0.0</td>\n",
       "      <td>product</td>\n",
       "      <td>image/jpeg</td>\n",
       "      <td>0.0</td>\n",
       "    </tr>\n",
       "    <tr>\n",
       "      <th>768</th>\n",
       "      <td>15887</td>\n",
       "      <td>0</td>\n",
       "      <td>0</td>\n",
       "      <td>0</td>\n",
       "      <td>0.0</td>\n",
       "      <td>0.0</td>\n",
       "      <td>taxable</td>\n",
       "      <td>2.0</td>\n",
       "      <td>2020-05-02 15:00:54</td>\n",
       "      <td>2020-05-02 13:00:54</td>\n",
       "      <td>...</td>\n",
       "      <td>closed</td>\n",
       "      <td>jamet cote rotie fructus voluptas 2018</td>\n",
       "      <td>2020-08-14 18:15:03</td>\n",
       "      <td>2020-08-14 16:15:03</td>\n",
       "      <td>0.0</td>\n",
       "      <td>https://www.bottle-neck.fr/?post_type=product&amp;...</td>\n",
       "      <td>0.0</td>\n",
       "      <td>product</td>\n",
       "      <td>image/jpeg</td>\n",
       "      <td>0.0</td>\n",
       "    </tr>\n",
       "    <tr>\n",
       "      <th>797</th>\n",
       "      <td>13127-1</td>\n",
       "      <td>0</td>\n",
       "      <td>0</td>\n",
       "      <td>0</td>\n",
       "      <td>0.0</td>\n",
       "      <td>0.0</td>\n",
       "      <td>taxable</td>\n",
       "      <td>2.0</td>\n",
       "      <td>2020-06-09 15:42:04</td>\n",
       "      <td>2020-06-09 13:42:04</td>\n",
       "      <td>...</td>\n",
       "      <td>closed</td>\n",
       "      <td>clos du mont olivet chateauneuf du pape 2007 2</td>\n",
       "      <td>2020-07-20 17:09:06</td>\n",
       "      <td>2020-07-20 15:09:06</td>\n",
       "      <td>0.0</td>\n",
       "      <td>https://www.bottle-neck.fr/?post_type=product&amp;...</td>\n",
       "      <td>0.0</td>\n",
       "      <td>product</td>\n",
       "      <td>image/jpeg</td>\n",
       "      <td>0.0</td>\n",
       "    </tr>\n",
       "    <tr>\n",
       "      <th>798</th>\n",
       "      <td>16230</td>\n",
       "      <td>0</td>\n",
       "      <td>0</td>\n",
       "      <td>0</td>\n",
       "      <td>0.0</td>\n",
       "      <td>0.0</td>\n",
       "      <td>taxable</td>\n",
       "      <td>2.0</td>\n",
       "      <td>2020-07-20 11:00:00</td>\n",
       "      <td>2020-07-20 09:00:00</td>\n",
       "      <td>...</td>\n",
       "      <td>closed</td>\n",
       "      <td>domaine saint nicolas fiefs vendeens blanc les...</td>\n",
       "      <td>2020-08-13 10:45:03</td>\n",
       "      <td>2020-08-13 08:45:03</td>\n",
       "      <td>0.0</td>\n",
       "      <td>https://www.bottle-neck.fr/?post_type=product&amp;...</td>\n",
       "      <td>0.0</td>\n",
       "      <td>product</td>\n",
       "      <td>image/jpeg</td>\n",
       "      <td>0.0</td>\n",
       "    </tr>\n",
       "  </tbody>\n",
       "</table>\n",
       "<p>5 rows × 24 columns</p>\n",
       "</div>"
      ],
      "text/plain": [
       "      id_web  virtual  downloadable  rating_count  average_rating  \\\n",
       "762    16135        0             0             0             0.0   \n",
       "767    15891        0             0             0             0.0   \n",
       "768    15887        0             0             0             0.0   \n",
       "797  13127-1        0             0             0             0.0   \n",
       "798    16230        0             0             0             0.0   \n",
       "\n",
       "     total_sales tax_status  post_author           post_date  \\\n",
       "762          5.0    taxable          2.0 2020-04-25 13:22:38   \n",
       "767          0.0    taxable          2.0 2020-05-02 14:53:40   \n",
       "768          0.0    taxable          2.0 2020-05-02 15:00:54   \n",
       "797          0.0    taxable          2.0 2020-06-09 15:42:04   \n",
       "798          0.0    taxable          2.0 2020-07-20 11:00:00   \n",
       "\n",
       "          post_date_gmt  ... ping_status  \\\n",
       "762 2020-04-25 11:22:38  ...      closed   \n",
       "767 2020-05-02 12:53:40  ...      closed   \n",
       "768 2020-05-02 13:00:54  ...      closed   \n",
       "797 2020-06-09 13:42:04  ...      closed   \n",
       "798 2020-07-20 09:00:00  ...      closed   \n",
       "\n",
       "                                             post_name       post_modified  \\\n",
       "762                    mouthes le bihan aime chai 2015 2020-08-26 17:35:03   \n",
       "767         camin larredya jurancon sec la virada 2018 2020-08-26 17:35:02   \n",
       "768             jamet cote rotie fructus voluptas 2018 2020-08-14 18:15:03   \n",
       "797     clos du mont olivet chateauneuf du pape 2007 2 2020-07-20 17:09:06   \n",
       "798  domaine saint nicolas fiefs vendeens blanc les... 2020-08-13 10:45:03   \n",
       "\n",
       "      post_modified_gmt post_parent  \\\n",
       "762 2020-08-26 15:35:03         0.0   \n",
       "767 2020-08-26 15:35:02         0.0   \n",
       "768 2020-08-14 16:15:03         0.0   \n",
       "797 2020-07-20 15:09:06         0.0   \n",
       "798 2020-08-13 08:45:03         0.0   \n",
       "\n",
       "                                                  guid menu_order post_type  \\\n",
       "762  https://www.bottle-neck.fr/?post_type=product&...        0.0   product   \n",
       "767  https://www.bottle-neck.fr/?post_type=product&...        0.0   product   \n",
       "768  https://www.bottle-neck.fr/?post_type=product&...        0.0   product   \n",
       "797  https://www.bottle-neck.fr/?post_type=product&...        0.0   product   \n",
       "798  https://www.bottle-neck.fr/?post_type=product&...        0.0   product   \n",
       "\n",
       "     post_mime_type comment_count  \n",
       "762      image/jpeg           0.0  \n",
       "767      image/jpeg           0.0  \n",
       "768      image/jpeg           0.0  \n",
       "797      image/jpeg           0.0  \n",
       "798      image/jpeg           0.0  \n",
       "\n",
       "[5 rows x 24 columns]"
      ]
     },
     "execution_count": 17,
     "metadata": {},
     "output_type": "execute_result"
    }
   ],
   "source": [
    "web.tail()"
   ]
  },
  {
   "cell_type": "markdown",
   "id": "0ca95237",
   "metadata": {},
   "source": [
    "## <a name=\"C4\">1.2. Traitement du dataframe \"erp\" :</a> &emsp;&emsp;&emsp;&emsp;&emsp;&emsp;&emsp;&emsp;&emsp;&emsp;&emsp;&emsp;&emsp;&emsp;&emsp;&emsp;&emsp;&emsp;&emsp;&emsp;&emsp;&emsp;&emsp;&emsp;&emsp;<a href=\"#C0\">Top </a>  "
   ]
  },
  {
   "cell_type": "markdown",
   "id": "afa35e5e",
   "metadata": {},
   "source": [
    "#### Affichage des cinq premières lignes :"
   ]
  },
  {
   "cell_type": "code",
   "execution_count": 18,
   "id": "af8e3a6c",
   "metadata": {},
   "outputs": [
    {
     "data": {
      "text/html": [
       "<div>\n",
       "<style scoped>\n",
       "    .dataframe tbody tr th:only-of-type {\n",
       "        vertical-align: middle;\n",
       "    }\n",
       "\n",
       "    .dataframe tbody tr th {\n",
       "        vertical-align: top;\n",
       "    }\n",
       "\n",
       "    .dataframe thead th {\n",
       "        text-align: right;\n",
       "    }\n",
       "</style>\n",
       "<table border=\"1\" class=\"dataframe\">\n",
       "  <thead>\n",
       "    <tr style=\"text-align: right;\">\n",
       "      <th></th>\n",
       "      <th>product_id</th>\n",
       "      <th>onsale_web</th>\n",
       "      <th>price</th>\n",
       "      <th>stock_quantity</th>\n",
       "      <th>stock_status</th>\n",
       "    </tr>\n",
       "  </thead>\n",
       "  <tbody>\n",
       "    <tr>\n",
       "      <th>0</th>\n",
       "      <td>3847</td>\n",
       "      <td>1</td>\n",
       "      <td>24.2</td>\n",
       "      <td>0</td>\n",
       "      <td>outofstock</td>\n",
       "    </tr>\n",
       "    <tr>\n",
       "      <th>1</th>\n",
       "      <td>3849</td>\n",
       "      <td>1</td>\n",
       "      <td>34.3</td>\n",
       "      <td>0</td>\n",
       "      <td>outofstock</td>\n",
       "    </tr>\n",
       "    <tr>\n",
       "      <th>2</th>\n",
       "      <td>3850</td>\n",
       "      <td>1</td>\n",
       "      <td>20.8</td>\n",
       "      <td>0</td>\n",
       "      <td>outofstock</td>\n",
       "    </tr>\n",
       "    <tr>\n",
       "      <th>3</th>\n",
       "      <td>4032</td>\n",
       "      <td>1</td>\n",
       "      <td>14.1</td>\n",
       "      <td>0</td>\n",
       "      <td>outofstock</td>\n",
       "    </tr>\n",
       "    <tr>\n",
       "      <th>4</th>\n",
       "      <td>4039</td>\n",
       "      <td>1</td>\n",
       "      <td>46.0</td>\n",
       "      <td>0</td>\n",
       "      <td>outofstock</td>\n",
       "    </tr>\n",
       "  </tbody>\n",
       "</table>\n",
       "</div>"
      ],
      "text/plain": [
       "   product_id  onsale_web  price  stock_quantity stock_status\n",
       "0        3847           1   24.2               0   outofstock\n",
       "1        3849           1   34.3               0   outofstock\n",
       "2        3850           1   20.8               0   outofstock\n",
       "3        4032           1   14.1               0   outofstock\n",
       "4        4039           1   46.0               0   outofstock"
      ]
     },
     "execution_count": 18,
     "metadata": {},
     "output_type": "execute_result"
    }
   ],
   "source": [
    "erp.head()"
   ]
  },
  {
   "cell_type": "markdown",
   "id": "05ed315d",
   "metadata": {},
   "source": [
    "#### Affichage des informations :"
   ]
  },
  {
   "cell_type": "code",
   "execution_count": 19,
   "id": "d3fb370c",
   "metadata": {},
   "outputs": [
    {
     "name": "stdout",
     "output_type": "stream",
     "text": [
      "<class 'pandas.core.frame.DataFrame'>\n",
      "RangeIndex: 825 entries, 0 to 824\n",
      "Data columns (total 5 columns):\n",
      " #   Column          Non-Null Count  Dtype  \n",
      "---  ------          --------------  -----  \n",
      " 0   product_id      825 non-null    int64  \n",
      " 1   onsale_web      825 non-null    int64  \n",
      " 2   price           825 non-null    float64\n",
      " 3   stock_quantity  825 non-null    int64  \n",
      " 4   stock_status    825 non-null    object \n",
      "dtypes: float64(1), int64(3), object(1)\n",
      "memory usage: 32.4+ KB\n"
     ]
    }
   ],
   "source": [
    "erp.info()"
   ]
  },
  {
   "cell_type": "markdown",
   "id": "39ce7970",
   "metadata": {},
   "source": [
    "#### Informations sur les valeurs non-nulles uniques dans chaque colonne :"
   ]
  },
  {
   "cell_type": "code",
   "execution_count": 20,
   "id": "c1dcc32e",
   "metadata": {},
   "outputs": [
    {
     "data": {
      "text/plain": [
       "product_id        825\n",
       "onsale_web          2\n",
       "price             381\n",
       "stock_quantity    128\n",
       "stock_status        2\n",
       "dtype: int64"
      ]
     },
     "execution_count": 20,
     "metadata": {},
     "output_type": "execute_result"
    }
   ],
   "source": [
    "erp.nunique()"
   ]
  },
  {
   "cell_type": "markdown",
   "id": "cd935a2d",
   "metadata": {},
   "source": [
    "#### Traitement des valeur aberrantes de la colonne \"stock_status\" :"
   ]
  },
  {
   "cell_type": "markdown",
   "id": "23d11ce1",
   "metadata": {},
   "source": [
    "Les valeurs de \"stock_status\" sont conditionnées par celles de \"stock_quantity\". Verifions s'il n'y a pas d'anomalies:"
   ]
  },
  {
   "cell_type": "code",
   "execution_count": 21,
   "id": "0734f86b",
   "metadata": {},
   "outputs": [
    {
     "data": {
      "text/html": [
       "<div>\n",
       "<style scoped>\n",
       "    .dataframe tbody tr th:only-of-type {\n",
       "        vertical-align: middle;\n",
       "    }\n",
       "\n",
       "    .dataframe tbody tr th {\n",
       "        vertical-align: top;\n",
       "    }\n",
       "\n",
       "    .dataframe thead th {\n",
       "        text-align: right;\n",
       "    }\n",
       "</style>\n",
       "<table border=\"1\" class=\"dataframe\">\n",
       "  <thead>\n",
       "    <tr style=\"text-align: right;\">\n",
       "      <th></th>\n",
       "      <th>product_id</th>\n",
       "      <th>onsale_web</th>\n",
       "      <th>price</th>\n",
       "      <th>stock_quantity</th>\n",
       "      <th>stock_status</th>\n",
       "    </tr>\n",
       "  </thead>\n",
       "  <tbody>\n",
       "    <tr>\n",
       "      <th>443</th>\n",
       "      <td>4954</td>\n",
       "      <td>1</td>\n",
       "      <td>25.0</td>\n",
       "      <td>0</td>\n",
       "      <td>instock</td>\n",
       "    </tr>\n",
       "  </tbody>\n",
       "</table>\n",
       "</div>"
      ],
      "text/plain": [
       "     product_id  onsale_web  price  stock_quantity stock_status\n",
       "443        4954           1   25.0               0      instock"
      ]
     },
     "execution_count": 21,
     "metadata": {},
     "output_type": "execute_result"
    }
   ],
   "source": [
    "erp[(erp.stock_quantity == 0) & (erp.stock_status == 'instock')]"
   ]
  },
  {
   "cell_type": "code",
   "execution_count": 22,
   "id": "43e0abfd",
   "metadata": {},
   "outputs": [
    {
     "data": {
      "text/html": [
       "<div>\n",
       "<style scoped>\n",
       "    .dataframe tbody tr th:only-of-type {\n",
       "        vertical-align: middle;\n",
       "    }\n",
       "\n",
       "    .dataframe tbody tr th {\n",
       "        vertical-align: top;\n",
       "    }\n",
       "\n",
       "    .dataframe thead th {\n",
       "        text-align: right;\n",
       "    }\n",
       "</style>\n",
       "<table border=\"1\" class=\"dataframe\">\n",
       "  <thead>\n",
       "    <tr style=\"text-align: right;\">\n",
       "      <th></th>\n",
       "      <th>product_id</th>\n",
       "      <th>onsale_web</th>\n",
       "      <th>price</th>\n",
       "      <th>stock_quantity</th>\n",
       "      <th>stock_status</th>\n",
       "    </tr>\n",
       "  </thead>\n",
       "  <tbody>\n",
       "  </tbody>\n",
       "</table>\n",
       "</div>"
      ],
      "text/plain": [
       "Empty DataFrame\n",
       "Columns: [product_id, onsale_web, price, stock_quantity, stock_status]\n",
       "Index: []"
      ]
     },
     "execution_count": 22,
     "metadata": {},
     "output_type": "execute_result"
    }
   ],
   "source": [
    "erp[(erp.stock_quantity != 0) & (erp.stock_status == 'outofstock')]"
   ]
  },
  {
   "cell_type": "markdown",
   "id": "557abe13",
   "metadata": {},
   "source": [
    "#### Correction des valeurs aberrantes dans \"stock_status\" :"
   ]
  },
  {
   "cell_type": "code",
   "execution_count": 23,
   "id": "f49de41d",
   "metadata": {},
   "outputs": [],
   "source": [
    "erp.at[443, 'stock_status'] = 'outofstock' "
   ]
  },
  {
   "cell_type": "markdown",
   "id": "73a51028",
   "metadata": {},
   "source": [
    "## <a name=\"C5\"> 1.3. Traitement du dataframe \"liaison\" :</a> &emsp;&emsp;&emsp;&emsp;&emsp;&emsp;&emsp;&emsp;&emsp;&emsp;&emsp;&emsp;&emsp;&emsp;&emsp;&emsp;&emsp;&emsp;&emsp;&emsp;&emsp;&emsp;&emsp;<a href=\"#C0\">Top </a>  "
   ]
  },
  {
   "cell_type": "markdown",
   "id": "1af090f7",
   "metadata": {},
   "source": [
    "#### Affichage des cinq dernieres lignes :"
   ]
  },
  {
   "cell_type": "code",
   "execution_count": 24,
   "id": "a061f93d",
   "metadata": {},
   "outputs": [
    {
     "data": {
      "text/html": [
       "<div>\n",
       "<style scoped>\n",
       "    .dataframe tbody tr th:only-of-type {\n",
       "        vertical-align: middle;\n",
       "    }\n",
       "\n",
       "    .dataframe tbody tr th {\n",
       "        vertical-align: top;\n",
       "    }\n",
       "\n",
       "    .dataframe thead th {\n",
       "        text-align: right;\n",
       "    }\n",
       "</style>\n",
       "<table border=\"1\" class=\"dataframe\">\n",
       "  <thead>\n",
       "    <tr style=\"text-align: right;\">\n",
       "      <th></th>\n",
       "      <th>product_id</th>\n",
       "      <th>id_web</th>\n",
       "    </tr>\n",
       "  </thead>\n",
       "  <tbody>\n",
       "    <tr>\n",
       "      <th>820</th>\n",
       "      <td>7203</td>\n",
       "      <td>NaN</td>\n",
       "    </tr>\n",
       "    <tr>\n",
       "      <th>821</th>\n",
       "      <td>7204</td>\n",
       "      <td>NaN</td>\n",
       "    </tr>\n",
       "    <tr>\n",
       "      <th>822</th>\n",
       "      <td>7247</td>\n",
       "      <td>13127-1</td>\n",
       "    </tr>\n",
       "    <tr>\n",
       "      <th>823</th>\n",
       "      <td>7329</td>\n",
       "      <td>14680-1</td>\n",
       "    </tr>\n",
       "    <tr>\n",
       "      <th>824</th>\n",
       "      <td>7338</td>\n",
       "      <td>16230</td>\n",
       "    </tr>\n",
       "  </tbody>\n",
       "</table>\n",
       "</div>"
      ],
      "text/plain": [
       "     product_id   id_web\n",
       "820        7203      NaN\n",
       "821        7204      NaN\n",
       "822        7247  13127-1\n",
       "823        7329  14680-1\n",
       "824        7338    16230"
      ]
     },
     "execution_count": 24,
     "metadata": {},
     "output_type": "execute_result"
    }
   ],
   "source": [
    "liaison.tail()"
   ]
  },
  {
   "cell_type": "markdown",
   "id": "855f7288",
   "metadata": {},
   "source": [
    "#### Affichage des informations :"
   ]
  },
  {
   "cell_type": "code",
   "execution_count": 25,
   "id": "b591cd25",
   "metadata": {},
   "outputs": [
    {
     "name": "stdout",
     "output_type": "stream",
     "text": [
      "<class 'pandas.core.frame.DataFrame'>\n",
      "RangeIndex: 825 entries, 0 to 824\n",
      "Data columns (total 2 columns):\n",
      " #   Column      Non-Null Count  Dtype \n",
      "---  ------      --------------  ----- \n",
      " 0   product_id  825 non-null    int64 \n",
      " 1   id_web      734 non-null    object\n",
      "dtypes: int64(1), object(1)\n",
      "memory usage: 13.0+ KB\n"
     ]
    }
   ],
   "source": [
    "liaison.info()"
   ]
  },
  {
   "cell_type": "markdown",
   "id": "7bc62d91",
   "metadata": {},
   "source": [
    "#### Informations sur les valeurs non-nulles uniques dans chaque colonne :"
   ]
  },
  {
   "cell_type": "code",
   "execution_count": 26,
   "id": "73ed9398",
   "metadata": {},
   "outputs": [
    {
     "data": {
      "text/plain": [
       "product_id    825\n",
       "id_web        734\n",
       "dtype: int64"
      ]
     },
     "execution_count": 26,
     "metadata": {},
     "output_type": "execute_result"
    }
   ],
   "source": [
    "liaison.nunique()"
   ]
  },
  {
   "cell_type": "markdown",
   "id": "a0a5ff08",
   "metadata": {},
   "source": [
    "#### Supression des enregistrements avec un \"id_web\" nul:"
   ]
  },
  {
   "cell_type": "markdown",
   "id": "8887a953",
   "metadata": {},
   "source": [
    "La clé primaire ici est composée des deux variables \"product_id\" et \"id_web\". L'unicité de cette clé exige la suppression des enregistrement avec des \"id_web\" manquants."
   ]
  },
  {
   "cell_type": "code",
   "execution_count": 27,
   "id": "3574054e",
   "metadata": {},
   "outputs": [
    {
     "data": {
      "text/plain": [
       "91"
      ]
     },
     "execution_count": 27,
     "metadata": {},
     "output_type": "execute_result"
    }
   ],
   "source": [
    "liaison.id_web.isna().sum()"
   ]
  },
  {
   "cell_type": "code",
   "execution_count": 28,
   "id": "1bd575f1",
   "metadata": {},
   "outputs": [],
   "source": [
    "liaison = liaison.dropna() # suppression des enregistrements avec un \"id_web\" manquants."
   ]
  },
  {
   "cell_type": "code",
   "execution_count": 29,
   "id": "4fcea70e",
   "metadata": {},
   "outputs": [
    {
     "name": "stdout",
     "output_type": "stream",
     "text": [
      "<class 'pandas.core.frame.DataFrame'>\n",
      "Int64Index: 734 entries, 0 to 824\n",
      "Data columns (total 2 columns):\n",
      " #   Column      Non-Null Count  Dtype \n",
      "---  ------      --------------  ----- \n",
      " 0   product_id  734 non-null    int64 \n",
      " 1   id_web      734 non-null    object\n",
      "dtypes: int64(1), object(1)\n",
      "memory usage: 17.2+ KB\n"
     ]
    }
   ],
   "source": [
    "liaison.info() # Vérification des informations."
   ]
  },
  {
   "cell_type": "markdown",
   "id": "f515789f",
   "metadata": {},
   "source": [
    "# <a name=\"C6\">Partie 2 : Rapprochement des DataFrames : </a> &emsp;&emsp;&emsp;&emsp;&emsp;&emsp;&emsp;&emsp;&emsp;&emsp;&emsp;&emsp;&emsp;&emsp;&emsp;<a href=\"#C0\">Top </a>  "
   ]
  },
  {
   "cell_type": "markdown",
   "id": "28547a89",
   "metadata": {},
   "source": [
    "## <a name=\"C7\">2.1. Fusion de \"web\" et de \"liaison\" :</a> &emsp;&emsp;&emsp;&emsp;&emsp;&emsp;&emsp;&emsp;&emsp;&emsp;&emsp;&emsp;&emsp;&emsp;&emsp;&emsp;&emsp;&emsp;&emsp;&emsp;&emsp;&emsp;&emsp;&emsp;&emsp;<a href=\"#C0\">Top </a>  "
   ]
  },
  {
   "cell_type": "markdown",
   "id": "b3de9594",
   "metadata": {},
   "source": [
    "Tous les \"id_web\" de \"web\" figurent dans la colonne \"id_web\" de \"liaison\". Une fusion type \"inner\" ou \"right\" dans notre exemple donnera le même résultat. Dans le cas contraire, une jointure à droite est souhaitable afin de garder toutes les information du dataframe \"web\"."
   ]
  },
  {
   "cell_type": "code",
   "execution_count": 30,
   "id": "3337e296",
   "metadata": {},
   "outputs": [
    {
     "data": {
      "text/plain": [
       "set()"
      ]
     },
     "execution_count": 30,
     "metadata": {},
     "output_type": "execute_result"
    }
   ],
   "source": [
    "set(web.id_web) - set(liaison.id_web) # différence entre les \"id_web\" des deux dataframes \"web\" et \"liaison\"."
   ]
  },
  {
   "cell_type": "code",
   "execution_count": 31,
   "id": "9619c92a",
   "metadata": {},
   "outputs": [
    {
     "data": {
      "text/html": [
       "<div>\n",
       "<style scoped>\n",
       "    .dataframe tbody tr th:only-of-type {\n",
       "        vertical-align: middle;\n",
       "    }\n",
       "\n",
       "    .dataframe tbody tr th {\n",
       "        vertical-align: top;\n",
       "    }\n",
       "\n",
       "    .dataframe thead th {\n",
       "        text-align: right;\n",
       "    }\n",
       "</style>\n",
       "<table border=\"1\" class=\"dataframe\">\n",
       "  <thead>\n",
       "    <tr style=\"text-align: right;\">\n",
       "      <th></th>\n",
       "      <th>product_id</th>\n",
       "      <th>id_web</th>\n",
       "      <th>virtual</th>\n",
       "      <th>downloadable</th>\n",
       "      <th>rating_count</th>\n",
       "      <th>average_rating</th>\n",
       "      <th>total_sales</th>\n",
       "      <th>tax_status</th>\n",
       "      <th>post_author</th>\n",
       "      <th>post_date</th>\n",
       "      <th>...</th>\n",
       "      <th>ping_status</th>\n",
       "      <th>post_name</th>\n",
       "      <th>post_modified</th>\n",
       "      <th>post_modified_gmt</th>\n",
       "      <th>post_parent</th>\n",
       "      <th>guid</th>\n",
       "      <th>menu_order</th>\n",
       "      <th>post_type</th>\n",
       "      <th>post_mime_type</th>\n",
       "      <th>comment_count</th>\n",
       "    </tr>\n",
       "  </thead>\n",
       "  <tbody>\n",
       "    <tr>\n",
       "      <th>0</th>\n",
       "      <td>4954</td>\n",
       "      <td>bon-cadeau-25-euros</td>\n",
       "      <td>0</td>\n",
       "      <td>0</td>\n",
       "      <td>0</td>\n",
       "      <td>0.0</td>\n",
       "      <td>10.0</td>\n",
       "      <td>taxable</td>\n",
       "      <td>1.0</td>\n",
       "      <td>2018-06-01 13:53:46</td>\n",
       "      <td>...</td>\n",
       "      <td>closed</td>\n",
       "      <td>bon cadeau de 25 euros</td>\n",
       "      <td>2018-06-01 14:13:57</td>\n",
       "      <td>2018-06-01 12:13:57</td>\n",
       "      <td>0.0</td>\n",
       "      <td>https://www.bottle-neck.fr/?post_type=product&amp;...</td>\n",
       "      <td>0.0</td>\n",
       "      <td>product</td>\n",
       "      <td>image/jpeg</td>\n",
       "      <td>0.0</td>\n",
       "    </tr>\n",
       "    <tr>\n",
       "      <th>1</th>\n",
       "      <td>3847</td>\n",
       "      <td>15298</td>\n",
       "      <td>0</td>\n",
       "      <td>0</td>\n",
       "      <td>0</td>\n",
       "      <td>0.0</td>\n",
       "      <td>6.0</td>\n",
       "      <td>taxable</td>\n",
       "      <td>2.0</td>\n",
       "      <td>2018-02-08 12:58:52</td>\n",
       "      <td>...</td>\n",
       "      <td>closed</td>\n",
       "      <td>pierre jean villa saint joseph preface 2018</td>\n",
       "      <td>2019-12-30 09:30:29</td>\n",
       "      <td>2019-12-30 08:30:29</td>\n",
       "      <td>0.0</td>\n",
       "      <td>https://www.bottle-neck.fr/?post_type=product&amp;...</td>\n",
       "      <td>0.0</td>\n",
       "      <td>product</td>\n",
       "      <td>image/jpeg</td>\n",
       "      <td>0.0</td>\n",
       "    </tr>\n",
       "    <tr>\n",
       "      <th>2</th>\n",
       "      <td>3849</td>\n",
       "      <td>15296</td>\n",
       "      <td>0</td>\n",
       "      <td>0</td>\n",
       "      <td>0</td>\n",
       "      <td>0.0</td>\n",
       "      <td>0.0</td>\n",
       "      <td>taxable</td>\n",
       "      <td>2.0</td>\n",
       "      <td>2018-02-08 13:49:41</td>\n",
       "      <td>...</td>\n",
       "      <td>closed</td>\n",
       "      <td>pierre jean villa saint joseph tilde 2017</td>\n",
       "      <td>2019-12-21 09:00:17</td>\n",
       "      <td>2019-12-21 08:00:17</td>\n",
       "      <td>0.0</td>\n",
       "      <td>https://www.bottle-neck.fr/?post_type=product&amp;...</td>\n",
       "      <td>0.0</td>\n",
       "      <td>product</td>\n",
       "      <td>image/jpeg</td>\n",
       "      <td>0.0</td>\n",
       "    </tr>\n",
       "    <tr>\n",
       "      <th>3</th>\n",
       "      <td>3850</td>\n",
       "      <td>15300</td>\n",
       "      <td>0</td>\n",
       "      <td>0</td>\n",
       "      <td>0</td>\n",
       "      <td>0.0</td>\n",
       "      <td>0.0</td>\n",
       "      <td>taxable</td>\n",
       "      <td>2.0</td>\n",
       "      <td>2018-02-08 14:08:36</td>\n",
       "      <td>...</td>\n",
       "      <td>closed</td>\n",
       "      <td>pierre jean villa croze hermitage accroche coe...</td>\n",
       "      <td>2020-06-26 18:15:03</td>\n",
       "      <td>2020-06-26 16:15:03</td>\n",
       "      <td>0.0</td>\n",
       "      <td>https://www.bottle-neck.fr/?post_type=product&amp;...</td>\n",
       "      <td>0.0</td>\n",
       "      <td>product</td>\n",
       "      <td>image/jpeg</td>\n",
       "      <td>0.0</td>\n",
       "    </tr>\n",
       "    <tr>\n",
       "      <th>4</th>\n",
       "      <td>4032</td>\n",
       "      <td>19814</td>\n",
       "      <td>0</td>\n",
       "      <td>0</td>\n",
       "      <td>0</td>\n",
       "      <td>0.0</td>\n",
       "      <td>3.0</td>\n",
       "      <td>taxable</td>\n",
       "      <td>2.0</td>\n",
       "      <td>2018-02-09 14:01:05</td>\n",
       "      <td>...</td>\n",
       "      <td>closed</td>\n",
       "      <td>pierre jean villa igp gamine 2018</td>\n",
       "      <td>2020-01-04 16:36:01</td>\n",
       "      <td>2020-01-04 15:36:01</td>\n",
       "      <td>0.0</td>\n",
       "      <td>https://www.bottle-neck.fr/?post_type=product&amp;...</td>\n",
       "      <td>0.0</td>\n",
       "      <td>product</td>\n",
       "      <td>image/jpeg</td>\n",
       "      <td>0.0</td>\n",
       "    </tr>\n",
       "  </tbody>\n",
       "</table>\n",
       "<p>5 rows × 25 columns</p>\n",
       "</div>"
      ],
      "text/plain": [
       "   product_id               id_web  virtual  downloadable  rating_count  \\\n",
       "0        4954  bon-cadeau-25-euros        0             0             0   \n",
       "1        3847                15298        0             0             0   \n",
       "2        3849                15296        0             0             0   \n",
       "3        3850                15300        0             0             0   \n",
       "4        4032                19814        0             0             0   \n",
       "\n",
       "   average_rating  total_sales tax_status  post_author           post_date  \\\n",
       "0             0.0         10.0    taxable          1.0 2018-06-01 13:53:46   \n",
       "1             0.0          6.0    taxable          2.0 2018-02-08 12:58:52   \n",
       "2             0.0          0.0    taxable          2.0 2018-02-08 13:49:41   \n",
       "3             0.0          0.0    taxable          2.0 2018-02-08 14:08:36   \n",
       "4             0.0          3.0    taxable          2.0 2018-02-09 14:01:05   \n",
       "\n",
       "   ... ping_status                                          post_name  \\\n",
       "0  ...      closed                             bon cadeau de 25 euros   \n",
       "1  ...      closed        pierre jean villa saint joseph preface 2018   \n",
       "2  ...      closed          pierre jean villa saint joseph tilde 2017   \n",
       "3  ...      closed  pierre jean villa croze hermitage accroche coe...   \n",
       "4  ...      closed                  pierre jean villa igp gamine 2018   \n",
       "\n",
       "        post_modified   post_modified_gmt post_parent  \\\n",
       "0 2018-06-01 14:13:57 2018-06-01 12:13:57         0.0   \n",
       "1 2019-12-30 09:30:29 2019-12-30 08:30:29         0.0   \n",
       "2 2019-12-21 09:00:17 2019-12-21 08:00:17         0.0   \n",
       "3 2020-06-26 18:15:03 2020-06-26 16:15:03         0.0   \n",
       "4 2020-01-04 16:36:01 2020-01-04 15:36:01         0.0   \n",
       "\n",
       "                                                guid menu_order post_type  \\\n",
       "0  https://www.bottle-neck.fr/?post_type=product&...        0.0   product   \n",
       "1  https://www.bottle-neck.fr/?post_type=product&...        0.0   product   \n",
       "2  https://www.bottle-neck.fr/?post_type=product&...        0.0   product   \n",
       "3  https://www.bottle-neck.fr/?post_type=product&...        0.0   product   \n",
       "4  https://www.bottle-neck.fr/?post_type=product&...        0.0   product   \n",
       "\n",
       "  post_mime_type  comment_count  \n",
       "0     image/jpeg            0.0  \n",
       "1     image/jpeg            0.0  \n",
       "2     image/jpeg            0.0  \n",
       "3     image/jpeg            0.0  \n",
       "4     image/jpeg            0.0  \n",
       "\n",
       "[5 rows x 25 columns]"
      ]
     },
     "execution_count": 31,
     "metadata": {},
     "output_type": "execute_result"
    }
   ],
   "source": [
    "liaison_web = pd.merge(liaison, web, on = 'id_web', how = 'right')\n",
    "liaison_web.head()"
   ]
  },
  {
   "cell_type": "markdown",
   "id": "304cac91",
   "metadata": {},
   "source": [
    "## <a name=\"C8\">2.2. Fusion de \"web\" de \"liaison\" et de \"erp\" :</a> &emsp;&emsp;&emsp;&emsp;&emsp;&emsp;&emsp;&emsp;&emsp;&emsp;&emsp;&emsp;&emsp;&emsp;&emsp;&emsp;&emsp;&emsp;&emsp;&emsp;<a href=\"#C0\">Top </a>  "
   ]
  },
  {
   "cell_type": "code",
   "execution_count": 32,
   "id": "b9503c97",
   "metadata": {},
   "outputs": [
    {
     "data": {
      "text/plain": [
       "set()"
      ]
     },
     "execution_count": 32,
     "metadata": {},
     "output_type": "execute_result"
    }
   ],
   "source": [
    "set(liaison_web.product_id) - set(erp.product_id) # différence entre les \"id_web\" des deux dataframes \"liaisonweb\" et \"erp\"."
   ]
  },
  {
   "cell_type": "markdown",
   "id": "cdf3350f",
   "metadata": {},
   "source": [
    "Tous les \"product_id\" de \"liaison_web\" figurent dans la colonne \"product_id\" de \"erp\". Une fusion type \"inner\" ou \"right\" dans notre exemple donnera le même résultat. Dans le cas contraire, une jointure à droite est souhaitable afin de garder toutes les information du dataframe \"web\"."
   ]
  },
  {
   "cell_type": "code",
   "execution_count": 33,
   "id": "b44dc5e2",
   "metadata": {},
   "outputs": [],
   "source": [
    "erp_liaison_web = pd.merge(erp, liaison_web, on = 'product_id', how = 'right')"
   ]
  },
  {
   "cell_type": "code",
   "execution_count": 34,
   "id": "83b99e39",
   "metadata": {
    "scrolled": true
   },
   "outputs": [
    {
     "data": {
      "text/html": [
       "<div>\n",
       "<style scoped>\n",
       "    .dataframe tbody tr th:only-of-type {\n",
       "        vertical-align: middle;\n",
       "    }\n",
       "\n",
       "    .dataframe tbody tr th {\n",
       "        vertical-align: top;\n",
       "    }\n",
       "\n",
       "    .dataframe thead th {\n",
       "        text-align: right;\n",
       "    }\n",
       "</style>\n",
       "<table border=\"1\" class=\"dataframe\">\n",
       "  <thead>\n",
       "    <tr style=\"text-align: right;\">\n",
       "      <th></th>\n",
       "      <th>product_id</th>\n",
       "      <th>onsale_web</th>\n",
       "      <th>price</th>\n",
       "      <th>stock_quantity</th>\n",
       "      <th>stock_status</th>\n",
       "      <th>id_web</th>\n",
       "      <th>virtual</th>\n",
       "      <th>downloadable</th>\n",
       "      <th>rating_count</th>\n",
       "      <th>average_rating</th>\n",
       "      <th>...</th>\n",
       "      <th>ping_status</th>\n",
       "      <th>post_name</th>\n",
       "      <th>post_modified</th>\n",
       "      <th>post_modified_gmt</th>\n",
       "      <th>post_parent</th>\n",
       "      <th>guid</th>\n",
       "      <th>menu_order</th>\n",
       "      <th>post_type</th>\n",
       "      <th>post_mime_type</th>\n",
       "      <th>comment_count</th>\n",
       "    </tr>\n",
       "  </thead>\n",
       "  <tbody>\n",
       "    <tr>\n",
       "      <th>0</th>\n",
       "      <td>4954</td>\n",
       "      <td>1</td>\n",
       "      <td>25.0</td>\n",
       "      <td>0</td>\n",
       "      <td>outofstock</td>\n",
       "      <td>bon-cadeau-25-euros</td>\n",
       "      <td>0</td>\n",
       "      <td>0</td>\n",
       "      <td>0</td>\n",
       "      <td>0.0</td>\n",
       "      <td>...</td>\n",
       "      <td>closed</td>\n",
       "      <td>bon cadeau de 25 euros</td>\n",
       "      <td>2018-06-01 14:13:57</td>\n",
       "      <td>2018-06-01 12:13:57</td>\n",
       "      <td>0.0</td>\n",
       "      <td>https://www.bottle-neck.fr/?post_type=product&amp;...</td>\n",
       "      <td>0.0</td>\n",
       "      <td>product</td>\n",
       "      <td>image/jpeg</td>\n",
       "      <td>0.0</td>\n",
       "    </tr>\n",
       "    <tr>\n",
       "      <th>1</th>\n",
       "      <td>3847</td>\n",
       "      <td>1</td>\n",
       "      <td>24.2</td>\n",
       "      <td>0</td>\n",
       "      <td>outofstock</td>\n",
       "      <td>15298</td>\n",
       "      <td>0</td>\n",
       "      <td>0</td>\n",
       "      <td>0</td>\n",
       "      <td>0.0</td>\n",
       "      <td>...</td>\n",
       "      <td>closed</td>\n",
       "      <td>pierre jean villa saint joseph preface 2018</td>\n",
       "      <td>2019-12-30 09:30:29</td>\n",
       "      <td>2019-12-30 08:30:29</td>\n",
       "      <td>0.0</td>\n",
       "      <td>https://www.bottle-neck.fr/?post_type=product&amp;...</td>\n",
       "      <td>0.0</td>\n",
       "      <td>product</td>\n",
       "      <td>image/jpeg</td>\n",
       "      <td>0.0</td>\n",
       "    </tr>\n",
       "    <tr>\n",
       "      <th>2</th>\n",
       "      <td>3849</td>\n",
       "      <td>1</td>\n",
       "      <td>34.3</td>\n",
       "      <td>0</td>\n",
       "      <td>outofstock</td>\n",
       "      <td>15296</td>\n",
       "      <td>0</td>\n",
       "      <td>0</td>\n",
       "      <td>0</td>\n",
       "      <td>0.0</td>\n",
       "      <td>...</td>\n",
       "      <td>closed</td>\n",
       "      <td>pierre jean villa saint joseph tilde 2017</td>\n",
       "      <td>2019-12-21 09:00:17</td>\n",
       "      <td>2019-12-21 08:00:17</td>\n",
       "      <td>0.0</td>\n",
       "      <td>https://www.bottle-neck.fr/?post_type=product&amp;...</td>\n",
       "      <td>0.0</td>\n",
       "      <td>product</td>\n",
       "      <td>image/jpeg</td>\n",
       "      <td>0.0</td>\n",
       "    </tr>\n",
       "    <tr>\n",
       "      <th>3</th>\n",
       "      <td>3850</td>\n",
       "      <td>1</td>\n",
       "      <td>20.8</td>\n",
       "      <td>0</td>\n",
       "      <td>outofstock</td>\n",
       "      <td>15300</td>\n",
       "      <td>0</td>\n",
       "      <td>0</td>\n",
       "      <td>0</td>\n",
       "      <td>0.0</td>\n",
       "      <td>...</td>\n",
       "      <td>closed</td>\n",
       "      <td>pierre jean villa croze hermitage accroche coe...</td>\n",
       "      <td>2020-06-26 18:15:03</td>\n",
       "      <td>2020-06-26 16:15:03</td>\n",
       "      <td>0.0</td>\n",
       "      <td>https://www.bottle-neck.fr/?post_type=product&amp;...</td>\n",
       "      <td>0.0</td>\n",
       "      <td>product</td>\n",
       "      <td>image/jpeg</td>\n",
       "      <td>0.0</td>\n",
       "    </tr>\n",
       "    <tr>\n",
       "      <th>4</th>\n",
       "      <td>4032</td>\n",
       "      <td>1</td>\n",
       "      <td>14.1</td>\n",
       "      <td>0</td>\n",
       "      <td>outofstock</td>\n",
       "      <td>19814</td>\n",
       "      <td>0</td>\n",
       "      <td>0</td>\n",
       "      <td>0</td>\n",
       "      <td>0.0</td>\n",
       "      <td>...</td>\n",
       "      <td>closed</td>\n",
       "      <td>pierre jean villa igp gamine 2018</td>\n",
       "      <td>2020-01-04 16:36:01</td>\n",
       "      <td>2020-01-04 15:36:01</td>\n",
       "      <td>0.0</td>\n",
       "      <td>https://www.bottle-neck.fr/?post_type=product&amp;...</td>\n",
       "      <td>0.0</td>\n",
       "      <td>product</td>\n",
       "      <td>image/jpeg</td>\n",
       "      <td>0.0</td>\n",
       "    </tr>\n",
       "  </tbody>\n",
       "</table>\n",
       "<p>5 rows × 29 columns</p>\n",
       "</div>"
      ],
      "text/plain": [
       "   product_id  onsale_web  price  stock_quantity stock_status  \\\n",
       "0        4954           1   25.0               0   outofstock   \n",
       "1        3847           1   24.2               0   outofstock   \n",
       "2        3849           1   34.3               0   outofstock   \n",
       "3        3850           1   20.8               0   outofstock   \n",
       "4        4032           1   14.1               0   outofstock   \n",
       "\n",
       "                id_web  virtual  downloadable  rating_count  average_rating  \\\n",
       "0  bon-cadeau-25-euros        0             0             0             0.0   \n",
       "1                15298        0             0             0             0.0   \n",
       "2                15296        0             0             0             0.0   \n",
       "3                15300        0             0             0             0.0   \n",
       "4                19814        0             0             0             0.0   \n",
       "\n",
       "   ...  ping_status                                          post_name  \\\n",
       "0  ...       closed                             bon cadeau de 25 euros   \n",
       "1  ...       closed        pierre jean villa saint joseph preface 2018   \n",
       "2  ...       closed          pierre jean villa saint joseph tilde 2017   \n",
       "3  ...       closed  pierre jean villa croze hermitage accroche coe...   \n",
       "4  ...       closed                  pierre jean villa igp gamine 2018   \n",
       "\n",
       "        post_modified   post_modified_gmt post_parent  \\\n",
       "0 2018-06-01 14:13:57 2018-06-01 12:13:57         0.0   \n",
       "1 2019-12-30 09:30:29 2019-12-30 08:30:29         0.0   \n",
       "2 2019-12-21 09:00:17 2019-12-21 08:00:17         0.0   \n",
       "3 2020-06-26 18:15:03 2020-06-26 16:15:03         0.0   \n",
       "4 2020-01-04 16:36:01 2020-01-04 15:36:01         0.0   \n",
       "\n",
       "                                                guid menu_order post_type  \\\n",
       "0  https://www.bottle-neck.fr/?post_type=product&...        0.0   product   \n",
       "1  https://www.bottle-neck.fr/?post_type=product&...        0.0   product   \n",
       "2  https://www.bottle-neck.fr/?post_type=product&...        0.0   product   \n",
       "3  https://www.bottle-neck.fr/?post_type=product&...        0.0   product   \n",
       "4  https://www.bottle-neck.fr/?post_type=product&...        0.0   product   \n",
       "\n",
       "  post_mime_type comment_count  \n",
       "0     image/jpeg           0.0  \n",
       "1     image/jpeg           0.0  \n",
       "2     image/jpeg           0.0  \n",
       "3     image/jpeg           0.0  \n",
       "4     image/jpeg           0.0  \n",
       "\n",
       "[5 rows x 29 columns]"
      ]
     },
     "execution_count": 34,
     "metadata": {},
     "output_type": "execute_result"
    }
   ],
   "source": [
    "erp_liaison_web.head()"
   ]
  },
  {
   "cell_type": "markdown",
   "id": "f1f29584",
   "metadata": {},
   "source": [
    " # <a name=\"C9\">Partie 3 : Analyse des données de vente </a> &emsp;&emsp;&emsp;&emsp;&emsp;&emsp;&emsp;&emsp;&emsp;&emsp;&emsp;&emsp;&emsp;&emsp;&emsp;&emsp;<a href=\"#C0\">Top </a>  "
   ]
  },
  {
   "cell_type": "markdown",
   "id": "5327147d",
   "metadata": {},
   "source": [
    "## <a name=\"C10\">3.1. Séléction des données de vente :</a> &emsp;&emsp;&emsp;&emsp;&emsp;&emsp;&emsp;&emsp;&emsp;&emsp;&emsp;&emsp;&emsp;&emsp;&emsp;&emsp;&emsp;&emsp;&emsp;&emsp;&emsp;&emsp;&emsp;&emsp;<a href=\"#C0\">Top </a>  "
   ]
  },
  {
   "cell_type": "markdown",
   "id": "6624af3f",
   "metadata": {},
   "source": [
    "Nous allons travailler par la suite avec une séléction de données sur la vente des produits. "
   ]
  },
  {
   "cell_type": "code",
   "execution_count": 35,
   "id": "85cb7f5d",
   "metadata": {},
   "outputs": [
    {
     "data": {
      "text/html": [
       "<div>\n",
       "<style scoped>\n",
       "    .dataframe tbody tr th:only-of-type {\n",
       "        vertical-align: middle;\n",
       "    }\n",
       "\n",
       "    .dataframe tbody tr th {\n",
       "        vertical-align: top;\n",
       "    }\n",
       "\n",
       "    .dataframe thead th {\n",
       "        text-align: right;\n",
       "    }\n",
       "</style>\n",
       "<table border=\"1\" class=\"dataframe\">\n",
       "  <thead>\n",
       "    <tr style=\"text-align: right;\">\n",
       "      <th></th>\n",
       "      <th>post_name</th>\n",
       "      <th>price</th>\n",
       "      <th>total_sales</th>\n",
       "      <th>stock_quantity</th>\n",
       "      <th>stock_status</th>\n",
       "    </tr>\n",
       "  </thead>\n",
       "  <tbody>\n",
       "    <tr>\n",
       "      <th>0</th>\n",
       "      <td>bon cadeau de 25 euros</td>\n",
       "      <td>25.0</td>\n",
       "      <td>10.0</td>\n",
       "      <td>0</td>\n",
       "      <td>outofstock</td>\n",
       "    </tr>\n",
       "    <tr>\n",
       "      <th>1</th>\n",
       "      <td>pierre jean villa saint joseph preface 2018</td>\n",
       "      <td>24.2</td>\n",
       "      <td>6.0</td>\n",
       "      <td>0</td>\n",
       "      <td>outofstock</td>\n",
       "    </tr>\n",
       "    <tr>\n",
       "      <th>2</th>\n",
       "      <td>pierre jean villa saint joseph tilde 2017</td>\n",
       "      <td>34.3</td>\n",
       "      <td>0.0</td>\n",
       "      <td>0</td>\n",
       "      <td>outofstock</td>\n",
       "    </tr>\n",
       "    <tr>\n",
       "      <th>3</th>\n",
       "      <td>pierre jean villa croze hermitage accroche coe...</td>\n",
       "      <td>20.8</td>\n",
       "      <td>0.0</td>\n",
       "      <td>0</td>\n",
       "      <td>outofstock</td>\n",
       "    </tr>\n",
       "    <tr>\n",
       "      <th>4</th>\n",
       "      <td>pierre jean villa igp gamine 2018</td>\n",
       "      <td>14.1</td>\n",
       "      <td>3.0</td>\n",
       "      <td>0</td>\n",
       "      <td>outofstock</td>\n",
       "    </tr>\n",
       "  </tbody>\n",
       "</table>\n",
       "</div>"
      ],
      "text/plain": [
       "                                           post_name  price  total_sales  \\\n",
       "0                             bon cadeau de 25 euros   25.0         10.0   \n",
       "1        pierre jean villa saint joseph preface 2018   24.2          6.0   \n",
       "2          pierre jean villa saint joseph tilde 2017   34.3          0.0   \n",
       "3  pierre jean villa croze hermitage accroche coe...   20.8          0.0   \n",
       "4                  pierre jean villa igp gamine 2018   14.1          3.0   \n",
       "\n",
       "   stock_quantity stock_status  \n",
       "0               0   outofstock  \n",
       "1               0   outofstock  \n",
       "2               0   outofstock  \n",
       "3               0   outofstock  \n",
       "4               0   outofstock  "
      ]
     },
     "execution_count": 35,
     "metadata": {},
     "output_type": "execute_result"
    }
   ],
   "source": [
    "# Le dataframe data_sales contiendra les données sur la vente des produits\n",
    "data_sales = erp_liaison_web[['post_name', 'price', 'total_sales', 'stock_quantity', 'stock_status']]\n",
    "data_sales.head()"
   ]
  },
  {
   "cell_type": "markdown",
   "id": "45bb2e28",
   "metadata": {},
   "source": [
    "#### Création d'une nouvelle colonne \"ca_product\" représentant le chiffre d'affaire par produit :"
   ]
  },
  {
   "cell_type": "code",
   "execution_count": 36,
   "id": "e0845557",
   "metadata": {},
   "outputs": [],
   "source": [
    "data_sales['ca_product'] =  data_sales['price'] * data_sales['total_sales']"
   ]
  },
  {
   "cell_type": "markdown",
   "id": "511fa159",
   "metadata": {},
   "source": [
    "#### Visualisation des données :"
   ]
  },
  {
   "cell_type": "code",
   "execution_count": 37,
   "id": "58c2669d",
   "metadata": {},
   "outputs": [
    {
     "data": {
      "text/html": [
       "<div>\n",
       "<style scoped>\n",
       "    .dataframe tbody tr th:only-of-type {\n",
       "        vertical-align: middle;\n",
       "    }\n",
       "\n",
       "    .dataframe tbody tr th {\n",
       "        vertical-align: top;\n",
       "    }\n",
       "\n",
       "    .dataframe thead th {\n",
       "        text-align: right;\n",
       "    }\n",
       "</style>\n",
       "<table border=\"1\" class=\"dataframe\">\n",
       "  <thead>\n",
       "    <tr style=\"text-align: right;\">\n",
       "      <th></th>\n",
       "      <th>post_name</th>\n",
       "      <th>price</th>\n",
       "      <th>total_sales</th>\n",
       "      <th>stock_quantity</th>\n",
       "      <th>stock_status</th>\n",
       "      <th>ca_product</th>\n",
       "    </tr>\n",
       "  </thead>\n",
       "  <tbody>\n",
       "    <tr>\n",
       "      <th>0</th>\n",
       "      <td>bon cadeau de 25 euros</td>\n",
       "      <td>25.0</td>\n",
       "      <td>10.0</td>\n",
       "      <td>0</td>\n",
       "      <td>outofstock</td>\n",
       "      <td>250.0</td>\n",
       "    </tr>\n",
       "    <tr>\n",
       "      <th>1</th>\n",
       "      <td>pierre jean villa saint joseph preface 2018</td>\n",
       "      <td>24.2</td>\n",
       "      <td>6.0</td>\n",
       "      <td>0</td>\n",
       "      <td>outofstock</td>\n",
       "      <td>145.2</td>\n",
       "    </tr>\n",
       "    <tr>\n",
       "      <th>2</th>\n",
       "      <td>pierre jean villa saint joseph tilde 2017</td>\n",
       "      <td>34.3</td>\n",
       "      <td>0.0</td>\n",
       "      <td>0</td>\n",
       "      <td>outofstock</td>\n",
       "      <td>0.0</td>\n",
       "    </tr>\n",
       "    <tr>\n",
       "      <th>3</th>\n",
       "      <td>pierre jean villa croze hermitage accroche coe...</td>\n",
       "      <td>20.8</td>\n",
       "      <td>0.0</td>\n",
       "      <td>0</td>\n",
       "      <td>outofstock</td>\n",
       "      <td>0.0</td>\n",
       "    </tr>\n",
       "    <tr>\n",
       "      <th>4</th>\n",
       "      <td>pierre jean villa igp gamine 2018</td>\n",
       "      <td>14.1</td>\n",
       "      <td>3.0</td>\n",
       "      <td>0</td>\n",
       "      <td>outofstock</td>\n",
       "      <td>42.3</td>\n",
       "    </tr>\n",
       "  </tbody>\n",
       "</table>\n",
       "</div>"
      ],
      "text/plain": [
       "                                           post_name  price  total_sales  \\\n",
       "0                             bon cadeau de 25 euros   25.0         10.0   \n",
       "1        pierre jean villa saint joseph preface 2018   24.2          6.0   \n",
       "2          pierre jean villa saint joseph tilde 2017   34.3          0.0   \n",
       "3  pierre jean villa croze hermitage accroche coe...   20.8          0.0   \n",
       "4                  pierre jean villa igp gamine 2018   14.1          3.0   \n",
       "\n",
       "   stock_quantity stock_status  ca_product  \n",
       "0               0   outofstock       250.0  \n",
       "1               0   outofstock       145.2  \n",
       "2               0   outofstock         0.0  \n",
       "3               0   outofstock         0.0  \n",
       "4               0   outofstock        42.3  "
      ]
     },
     "execution_count": 37,
     "metadata": {},
     "output_type": "execute_result"
    }
   ],
   "source": [
    "data_sales.head()"
   ]
  },
  {
   "cell_type": "code",
   "execution_count": 66,
   "id": "fa89d834",
   "metadata": {},
   "outputs": [
    {
     "name": "stdout",
     "output_type": "stream",
     "text": [
      "\u001b[1mLe chiffre d'affaire global est de 70568.6 €\n"
     ]
    }
   ],
   "source": [
    "ca_total = data_sales.ca_product.sum()\n",
    "print('\\033[1m'+\"Le chiffre d'affaire global est de\", ca_total,\"€\")"
   ]
  },
  {
   "cell_type": "markdown",
   "id": "a694d5b9",
   "metadata": {},
   "source": [
    "#### Quelques statistiques des ventes"
   ]
  },
  {
   "cell_type": "code",
   "execution_count": 39,
   "id": "ad4198af",
   "metadata": {},
   "outputs": [
    {
     "data": {
      "text/html": [
       "<div>\n",
       "<style scoped>\n",
       "    .dataframe tbody tr th:only-of-type {\n",
       "        vertical-align: middle;\n",
       "    }\n",
       "\n",
       "    .dataframe tbody tr th {\n",
       "        vertical-align: top;\n",
       "    }\n",
       "\n",
       "    .dataframe thead th {\n",
       "        text-align: right;\n",
       "    }\n",
       "</style>\n",
       "<table border=\"1\" class=\"dataframe\">\n",
       "  <thead>\n",
       "    <tr style=\"text-align: right;\">\n",
       "      <th></th>\n",
       "      <th>price</th>\n",
       "      <th>total_sales</th>\n",
       "      <th>stock_quantity</th>\n",
       "      <th>ca_product</th>\n",
       "    </tr>\n",
       "  </thead>\n",
       "  <tbody>\n",
       "    <tr>\n",
       "      <th>count</th>\n",
       "      <td>714.000000</td>\n",
       "      <td>714.000000</td>\n",
       "      <td>714.000000</td>\n",
       "      <td>714.000000</td>\n",
       "    </tr>\n",
       "    <tr>\n",
       "      <th>mean</th>\n",
       "      <td>32.493137</td>\n",
       "      <td>4.012605</td>\n",
       "      <td>28.746499</td>\n",
       "      <td>98.835574</td>\n",
       "    </tr>\n",
       "    <tr>\n",
       "      <th>std</th>\n",
       "      <td>27.810525</td>\n",
       "      <td>8.518183</td>\n",
       "      <td>48.012608</td>\n",
       "      <td>307.685071</td>\n",
       "    </tr>\n",
       "    <tr>\n",
       "      <th>min</th>\n",
       "      <td>5.200000</td>\n",
       "      <td>0.000000</td>\n",
       "      <td>0.000000</td>\n",
       "      <td>0.000000</td>\n",
       "    </tr>\n",
       "    <tr>\n",
       "      <th>25%</th>\n",
       "      <td>14.100000</td>\n",
       "      <td>0.000000</td>\n",
       "      <td>2.000000</td>\n",
       "      <td>0.000000</td>\n",
       "    </tr>\n",
       "    <tr>\n",
       "      <th>50%</th>\n",
       "      <td>23.550000</td>\n",
       "      <td>1.000000</td>\n",
       "      <td>12.000000</td>\n",
       "      <td>15.250000</td>\n",
       "    </tr>\n",
       "    <tr>\n",
       "      <th>75%</th>\n",
       "      <td>42.175000</td>\n",
       "      <td>4.000000</td>\n",
       "      <td>35.000000</td>\n",
       "      <td>91.150000</td>\n",
       "    </tr>\n",
       "    <tr>\n",
       "      <th>max</th>\n",
       "      <td>225.000000</td>\n",
       "      <td>96.000000</td>\n",
       "      <td>578.000000</td>\n",
       "      <td>4704.000000</td>\n",
       "    </tr>\n",
       "  </tbody>\n",
       "</table>\n",
       "</div>"
      ],
      "text/plain": [
       "            price  total_sales  stock_quantity   ca_product\n",
       "count  714.000000   714.000000      714.000000   714.000000\n",
       "mean    32.493137     4.012605       28.746499    98.835574\n",
       "std     27.810525     8.518183       48.012608   307.685071\n",
       "min      5.200000     0.000000        0.000000     0.000000\n",
       "25%     14.100000     0.000000        2.000000     0.000000\n",
       "50%     23.550000     1.000000       12.000000    15.250000\n",
       "75%     42.175000     4.000000       35.000000    91.150000\n",
       "max    225.000000    96.000000      578.000000  4704.000000"
      ]
     },
     "execution_count": 39,
     "metadata": {},
     "output_type": "execute_result"
    }
   ],
   "source": [
    "data_sales.describe()"
   ]
  },
  {
   "cell_type": "markdown",
   "id": "616c923b",
   "metadata": {},
   "source": [
    "## <a name=\"C11\">3.2. Etude du prix :</a> &emsp;&emsp;&emsp;&emsp;&emsp;&emsp;&emsp;&emsp;&emsp;&emsp;&emsp;&emsp;&emsp;&emsp;&emsp;&emsp;&emsp;&emsp;&emsp;&emsp;&emsp;&emsp;&emsp;&emsp;&emsp;&emsp;&emsp;&emsp;&emsp;&emsp;&emsp;&emsp;&emsp;<a href=\"#C0\">Top </a>  "
   ]
  },
  {
   "cell_type": "markdown",
   "id": "c539f82a",
   "metadata": {},
   "source": [
    "### Les mesures de tendance centrale :"
   ]
  },
  {
   "cell_type": "code",
   "execution_count": 40,
   "id": "a23bb439",
   "metadata": {},
   "outputs": [
    {
     "name": "stdout",
     "output_type": "stream",
     "text": [
      "le prix modale est égal à : 19.0 €\n",
      "le prix moyen est égal à : 32.49 €\n",
      "le prix médian est égal à : 23.55 €\n"
     ]
    },
    {
     "data": {
      "image/png": "[encoded data removed]",
      "text/plain": [
       "<Figure size 432x288 with 1 Axes>"
      ]
     },
     "metadata": {
      "needs_background": "light"
     },
     "output_type": "display_data"
    }
   ],
   "source": [
    "print('le prix modale est égal à :', data_sales.price.mode()[0], '€')\n",
    "print('le prix moyen est égal à :', round(data_sales.price.mean(), 2),'€')\n",
    "print('le prix médian est égal à :', data_sales.price.median(), '€')\n",
    "# Histogramme \n",
    "sns.histplot(data = data_sales, x= 'price' , kde=True, stat=\"percent\").set(title = 'Répartition des prix')\n",
    "plt.show()"
   ]
  },
  {
   "cell_type": "markdown",
   "id": "a190510a",
   "metadata": {},
   "source": [
    "### Les mesures de dispersion :"
   ]
  },
  {
   "cell_type": "code",
   "execution_count": 41,
   "id": "e47c33d7",
   "metadata": {},
   "outputs": [
    {
     "name": "stdout",
     "output_type": "stream",
     "text": [
      "\n",
      "La variance empirique du prix est égale à : 773.4252964551889\n",
      "La variance empirique sans biais du prix est égale à : 772.342067748669\n",
      "L'écart-type empirique du prix est égal à 27.810524922323722 \n",
      "\n"
     ]
    },
    {
     "data": {
      "image/png": "[encoded data removed]",
      "text/plain": [
       "<Figure size 432x288 with 1 Axes>"
      ]
     },
     "metadata": {
      "needs_background": "light"
     },
     "output_type": "display_data"
    },
    {
     "name": "stdout",
     "output_type": "stream",
     "text": [
      "Le prix maximal est de : 225.0\n",
      "Le prix minimal est de : 5.2\n",
      "Le premier quartile est égal à : 14.1\n",
      "Le troisième quartile est égal à: 42.175000000000004\n",
      "L écart interquartile est égal à : 28.075000000000003\n"
     ]
    }
   ],
   "source": [
    "var_price = data_sales.price.var()\n",
    "print('\\nLa variance empirique du prix est égale à :',var_price)# Variance emperique\n",
    "var_sb_price = data_sales.price.var(ddof=0)\n",
    "print('La variance empirique sans biais du prix est égale à :',var_sb_price)# variance empirique sans biais\n",
    "std_price = data_sales.price.std()\n",
    "print(\"L'écart-type empirique du prix est égal à\",std_price,'\\n') # écart-type empirique\n",
    "\n",
    "plt.title(\"boîte à moustaches\", fontweight =\"bold\")\n",
    "data_sales.boxplot(column = 'price', vert = False)\n",
    "plt.show()\n",
    "\n",
    "print('Le prix maximal est de :', data_sales.price.max())\n",
    "print('Le prix minimal est de :', data_sales.price.min())\n",
    "Q1 = data_sales.price.quantile(0.25)\n",
    "Q3 = data_sales.price.quantile(0.75)\n",
    "IQR = Q3 - Q1\n",
    "print('Le premier quartile est égal à :', Q1) # premier quartile\n",
    "print('Le troisième quartile est égal à:', Q3) # troisième quartile\n",
    "print('L écart interquartile est égal à :', IQR )# écart interquartile"
   ]
  },
  {
   "cell_type": "markdown",
   "id": "9b1c77e1",
   "metadata": {},
   "source": [
    "### Les mesures de forme :"
   ]
  },
  {
   "cell_type": "code",
   "execution_count": 42,
   "id": "8858d2cc",
   "metadata": {},
   "outputs": [
    {
     "data": {
      "image/png": "[encoded data removed]",
      "text/plain": [
       "<Figure size 360x360 with 1 Axes>"
      ]
     },
     "metadata": {
      "needs_background": "light"
     },
     "output_type": "display_data"
    },
    {
     "name": "stdout",
     "output_type": "stream",
     "text": [
      "\n",
      "La distribustion des prix est étalée à droite:\n",
      "Le Skewness est égal à 2.5809012630033705  > 0 \n",
      "\n",
      "\n",
      "La distribustion des prix est moins aplatie que la distribution normale (les observations sont plus concentrées):\n",
      "Le Kurtosis est égal à 10.088392064977292 > 0 \n",
      "\n"
     ]
    }
   ],
   "source": [
    "# Représentation graphique de la distribution des prix\n",
    "sns.displot(data=data_sales, x=\"price\", kind = 'kde').set(title = 'distribution du prix')\n",
    "plt.show()\n",
    "# Le Skewness empirique\n",
    "skew_price = data_sales.price.skew()\n",
    "print('\\nLa distribustion des prix est étalée à droite:') \n",
    "print('Le Skewness est égal à',skew_price,' > 0 \\n' )\n",
    "# Le Kurtosis empirique\n",
    "kurtosis_price = data_sales.price.kurtosis()\n",
    "print('\\nLa distribustion des prix est moins aplatie que la distribution normale (les observations sont plus concentrées):') \n",
    "print('Le Kurtosis est égal à',kurtosis_price, '> 0 \\n')"
   ]
  },
  {
   "cell_type": "markdown",
   "id": "56874cbe",
   "metadata": {},
   "source": [
    "## <a name=\"C12\">3.3. Détermination des prix aberrants :</a>  &emsp;&emsp;&emsp;&emsp;&emsp;&emsp;&emsp;&emsp;&emsp;&emsp;&emsp;&emsp;&emsp;&emsp;&emsp;&emsp;&emsp;&emsp;&emsp;&emsp;&emsp;&emsp;&emsp;&emsp;<a href=\"#C0\">Top </a>  "
   ]
  },
  {
   "cell_type": "markdown",
   "id": "fecf773a",
   "metadata": {},
   "source": [
    "#### Visualisation de la répartition des prix à l'aide d'une boite à moustache :"
   ]
  },
  {
   "cell_type": "code",
   "execution_count": 43,
   "id": "af69a5d5",
   "metadata": {
    "scrolled": true
   },
   "outputs": [
    {
     "data": {
      "image/png": "[encoded data removed]",
      "text/plain": [
       "<Figure size 432x288 with 1 Axes>"
      ]
     },
     "metadata": {
      "needs_background": "light"
     },
     "output_type": "display_data"
    }
   ],
   "source": [
    "data_sales.boxplot(column = 'price', vert = False)\n",
    "plt.show()"
   ]
  },
  {
   "cell_type": "markdown",
   "id": "fc7f525a",
   "metadata": {},
   "source": [
    "#### Détermination des valeurs aberrantes grâce à l'approche IQR :"
   ]
  },
  {
   "cell_type": "code",
   "execution_count": 44,
   "id": "9690bbaf",
   "metadata": {},
   "outputs": [],
   "source": [
    "# limites supérieure et inférieure pour des prix normaux \n",
    "upper = data_sales.price >= (Q3 + 1.5*IQR)\n",
    "lower = data_sales.price <= (Q1 - 1.5*IQR)"
   ]
  },
  {
   "cell_type": "markdown",
   "id": "27b9a069",
   "metadata": {},
   "source": [
    "#### Visualisation des outliers:"
   ]
  },
  {
   "cell_type": "code",
   "execution_count": 45,
   "id": "e73f55fa",
   "metadata": {},
   "outputs": [
    {
     "data": {
      "text/html": [
       "<div>\n",
       "<style scoped>\n",
       "    .dataframe tbody tr th:only-of-type {\n",
       "        vertical-align: middle;\n",
       "    }\n",
       "\n",
       "    .dataframe tbody tr th {\n",
       "        vertical-align: top;\n",
       "    }\n",
       "\n",
       "    .dataframe thead th {\n",
       "        text-align: right;\n",
       "    }\n",
       "</style>\n",
       "<table border=\"1\" class=\"dataframe\">\n",
       "  <thead>\n",
       "    <tr style=\"text-align: right;\">\n",
       "      <th></th>\n",
       "      <th>post_name</th>\n",
       "      <th>price</th>\n",
       "      <th>total_sales</th>\n",
       "      <th>stock_quantity</th>\n",
       "      <th>stock_status</th>\n",
       "      <th>ca_product</th>\n",
       "    </tr>\n",
       "  </thead>\n",
       "  <tbody>\n",
       "    <tr>\n",
       "      <th>64</th>\n",
       "      <td>zind humbrecht riesling gc rangen thann clos s...</td>\n",
       "      <td>100.0</td>\n",
       "      <td>0.0</td>\n",
       "      <td>11</td>\n",
       "      <td>instock</td>\n",
       "      <td>0.0</td>\n",
       "    </tr>\n",
       "    <tr>\n",
       "      <th>66</th>\n",
       "      <td>zind humbrecht pinot gris grand cru rangen de ...</td>\n",
       "      <td>88.4</td>\n",
       "      <td>0.0</td>\n",
       "      <td>5</td>\n",
       "      <td>instock</td>\n",
       "      <td>0.0</td>\n",
       "    </tr>\n",
       "    <tr>\n",
       "      <th>200</th>\n",
       "      <td>champagne egly ouriet grand cru millesime 2008</td>\n",
       "      <td>225.0</td>\n",
       "      <td>5.0</td>\n",
       "      <td>0</td>\n",
       "      <td>outofstock</td>\n",
       "      <td>1125.0</td>\n",
       "    </tr>\n",
       "    <tr>\n",
       "      <th>202</th>\n",
       "      <td>champagne egly ouriet grand cru brut blanc de ...</td>\n",
       "      <td>126.5</td>\n",
       "      <td>11.0</td>\n",
       "      <td>2</td>\n",
       "      <td>instock</td>\n",
       "      <td>1391.5</td>\n",
       "    </tr>\n",
       "    <tr>\n",
       "      <th>206</th>\n",
       "      <td>champagne larmandier bernier grand cru vieille...</td>\n",
       "      <td>85.6</td>\n",
       "      <td>1.0</td>\n",
       "      <td>0</td>\n",
       "      <td>outofstock</td>\n",
       "      <td>85.6</td>\n",
       "    </tr>\n",
       "    <tr>\n",
       "      <th>219</th>\n",
       "      <td>cognac frapin vip xo</td>\n",
       "      <td>176.0</td>\n",
       "      <td>13.0</td>\n",
       "      <td>8</td>\n",
       "      <td>instock</td>\n",
       "      <td>2288.0</td>\n",
       "    </tr>\n",
       "    <tr>\n",
       "      <th>220</th>\n",
       "      <td>cognac frapin fontpinot xo</td>\n",
       "      <td>108.5</td>\n",
       "      <td>2.0</td>\n",
       "      <td>2</td>\n",
       "      <td>instock</td>\n",
       "      <td>217.0</td>\n",
       "    </tr>\n",
       "    <tr>\n",
       "      <th>222</th>\n",
       "      <td>cognac frapin chateau de fontpinot 1989 20 ans</td>\n",
       "      <td>157.0</td>\n",
       "      <td>0.0</td>\n",
       "      <td>3</td>\n",
       "      <td>instock</td>\n",
       "      <td>0.0</td>\n",
       "    </tr>\n",
       "    <tr>\n",
       "      <th>223</th>\n",
       "      <td>cognac frapin cigar blend</td>\n",
       "      <td>104.0</td>\n",
       "      <td>1.0</td>\n",
       "      <td>6</td>\n",
       "      <td>instock</td>\n",
       "      <td>104.0</td>\n",
       "    </tr>\n",
       "    <tr>\n",
       "      <th>228</th>\n",
       "      <td>chateau de puligny montrachet 1cru champ canet...</td>\n",
       "      <td>109.6</td>\n",
       "      <td>0.0</td>\n",
       "      <td>7</td>\n",
       "      <td>instock</td>\n",
       "      <td>0.0</td>\n",
       "    </tr>\n",
       "    <tr>\n",
       "      <th>381</th>\n",
       "      <td>domaine des croix corton grand cru les greves ...</td>\n",
       "      <td>102.3</td>\n",
       "      <td>0.0</td>\n",
       "      <td>20</td>\n",
       "      <td>instock</td>\n",
       "      <td>0.0</td>\n",
       "    </tr>\n",
       "    <tr>\n",
       "      <th>382</th>\n",
       "      <td>domaine des croix corton charlemagne grand cru...</td>\n",
       "      <td>137.0</td>\n",
       "      <td>5.0</td>\n",
       "      <td>13</td>\n",
       "      <td>instock</td>\n",
       "      <td>685.0</td>\n",
       "    </tr>\n",
       "    <tr>\n",
       "      <th>426</th>\n",
       "      <td>david duband charmes chambertin grand cru 2014</td>\n",
       "      <td>217.5</td>\n",
       "      <td>0.0</td>\n",
       "      <td>20</td>\n",
       "      <td>instock</td>\n",
       "      <td>0.0</td>\n",
       "    </tr>\n",
       "    <tr>\n",
       "      <th>431</th>\n",
       "      <td>domaine des comtes lafon volnay 1er cru santen...</td>\n",
       "      <td>105.0</td>\n",
       "      <td>0.0</td>\n",
       "      <td>17</td>\n",
       "      <td>instock</td>\n",
       "      <td>0.0</td>\n",
       "    </tr>\n",
       "    <tr>\n",
       "      <th>432</th>\n",
       "      <td>domaine des comtes lafon volnay 1er cru santen...</td>\n",
       "      <td>105.0</td>\n",
       "      <td>0.0</td>\n",
       "      <td>10</td>\n",
       "      <td>instock</td>\n",
       "      <td>0.0</td>\n",
       "    </tr>\n",
       "    <tr>\n",
       "      <th>437</th>\n",
       "      <td>champagne agrapart fils lavizoise grand cru 20...</td>\n",
       "      <td>112.0</td>\n",
       "      <td>0.0</td>\n",
       "      <td>0</td>\n",
       "      <td>outofstock</td>\n",
       "      <td>0.0</td>\n",
       "    </tr>\n",
       "    <tr>\n",
       "      <th>438</th>\n",
       "      <td>champagne agrapart fils mineral extra brut bla...</td>\n",
       "      <td>86.8</td>\n",
       "      <td>0.0</td>\n",
       "      <td>2</td>\n",
       "      <td>instock</td>\n",
       "      <td>0.0</td>\n",
       "    </tr>\n",
       "    <tr>\n",
       "      <th>502</th>\n",
       "      <td>tempier bandol cabassaou 2017</td>\n",
       "      <td>92.0</td>\n",
       "      <td>0.0</td>\n",
       "      <td>0</td>\n",
       "      <td>outofstock</td>\n",
       "      <td>0.0</td>\n",
       "    </tr>\n",
       "    <tr>\n",
       "      <th>511</th>\n",
       "      <td>domaine weinbach gewurztraminer gc furstentum ...</td>\n",
       "      <td>124.8</td>\n",
       "      <td>0.0</td>\n",
       "      <td>12</td>\n",
       "      <td>instock</td>\n",
       "      <td>0.0</td>\n",
       "    </tr>\n",
       "    <tr>\n",
       "      <th>553</th>\n",
       "      <td>camille giroud clos de vougeot 2016</td>\n",
       "      <td>175.0</td>\n",
       "      <td>0.0</td>\n",
       "      <td>12</td>\n",
       "      <td>instock</td>\n",
       "      <td>0.0</td>\n",
       "    </tr>\n",
       "    <tr>\n",
       "      <th>587</th>\n",
       "      <td>coteaux champenois egly ouriet ambonnay rouge ...</td>\n",
       "      <td>191.3</td>\n",
       "      <td>3.0</td>\n",
       "      <td>10</td>\n",
       "      <td>instock</td>\n",
       "      <td>573.9</td>\n",
       "    </tr>\n",
       "    <tr>\n",
       "      <th>602</th>\n",
       "      <td>wemyss malts single cask chocolate moka cake</td>\n",
       "      <td>93.0</td>\n",
       "      <td>0.0</td>\n",
       "      <td>3</td>\n",
       "      <td>instock</td>\n",
       "      <td>0.0</td>\n",
       "    </tr>\n",
       "    <tr>\n",
       "      <th>603</th>\n",
       "      <td>wemyss malts single cask scotch whisky choc n ...</td>\n",
       "      <td>122.0</td>\n",
       "      <td>0.0</td>\n",
       "      <td>4</td>\n",
       "      <td>instock</td>\n",
       "      <td>0.0</td>\n",
       "    </tr>\n",
       "    <tr>\n",
       "      <th>604</th>\n",
       "      <td>wemyss malts single cask scotch whisky chai ca...</td>\n",
       "      <td>114.0</td>\n",
       "      <td>0.0</td>\n",
       "      <td>8</td>\n",
       "      <td>instock</td>\n",
       "      <td>0.0</td>\n",
       "    </tr>\n",
       "    <tr>\n",
       "      <th>642</th>\n",
       "      <td>champagne gosset celebris vintage 2007</td>\n",
       "      <td>135.0</td>\n",
       "      <td>2.0</td>\n",
       "      <td>10</td>\n",
       "      <td>instock</td>\n",
       "      <td>270.0</td>\n",
       "    </tr>\n",
       "    <tr>\n",
       "      <th>647</th>\n",
       "      <td>david duband chambolle musigny 1er cru les sen...</td>\n",
       "      <td>105.6</td>\n",
       "      <td>0.0</td>\n",
       "      <td>7</td>\n",
       "      <td>instock</td>\n",
       "      <td>0.0</td>\n",
       "    </tr>\n",
       "    <tr>\n",
       "      <th>648</th>\n",
       "      <td>domaine clerget echezeaux en orveaux 2015</td>\n",
       "      <td>116.4</td>\n",
       "      <td>0.0</td>\n",
       "      <td>14</td>\n",
       "      <td>instock</td>\n",
       "      <td>0.0</td>\n",
       "    </tr>\n",
       "    <tr>\n",
       "      <th>653</th>\n",
       "      <td>domaine des comtes lafon volnay 1er cru santen...</td>\n",
       "      <td>115.0</td>\n",
       "      <td>2.0</td>\n",
       "      <td>2</td>\n",
       "      <td>instock</td>\n",
       "      <td>230.0</td>\n",
       "    </tr>\n",
       "    <tr>\n",
       "      <th>654</th>\n",
       "      <td>domaine des comtes lafon volnay 1er cru santen...</td>\n",
       "      <td>121.0</td>\n",
       "      <td>0.0</td>\n",
       "      <td>7</td>\n",
       "      <td>instock</td>\n",
       "      <td>0.0</td>\n",
       "    </tr>\n",
       "    <tr>\n",
       "      <th>655</th>\n",
       "      <td>domaine des comtes lafon volnay 1er cru champa...</td>\n",
       "      <td>99.0</td>\n",
       "      <td>0.0</td>\n",
       "      <td>7</td>\n",
       "      <td>instock</td>\n",
       "      <td>0.0</td>\n",
       "    </tr>\n",
       "    <tr>\n",
       "      <th>656</th>\n",
       "      <td>domaine des comtes lafon volnay 1er cru champa...</td>\n",
       "      <td>115.0</td>\n",
       "      <td>0.0</td>\n",
       "      <td>4</td>\n",
       "      <td>instock</td>\n",
       "      <td>0.0</td>\n",
       "    </tr>\n",
       "    <tr>\n",
       "      <th>657</th>\n",
       "      <td>domaine des comtes lafon volnay 1er cru champa...</td>\n",
       "      <td>121.0</td>\n",
       "      <td>0.0</td>\n",
       "      <td>6</td>\n",
       "      <td>instock</td>\n",
       "      <td>0.0</td>\n",
       "    </tr>\n",
       "  </tbody>\n",
       "</table>\n",
       "</div>"
      ],
      "text/plain": [
       "                                             post_name  price  total_sales  \\\n",
       "64   zind humbrecht riesling gc rangen thann clos s...  100.0          0.0   \n",
       "66   zind humbrecht pinot gris grand cru rangen de ...   88.4          0.0   \n",
       "200     champagne egly ouriet grand cru millesime 2008  225.0          5.0   \n",
       "202  champagne egly ouriet grand cru brut blanc de ...  126.5         11.0   \n",
       "206  champagne larmandier bernier grand cru vieille...   85.6          1.0   \n",
       "219                               cognac frapin vip xo  176.0         13.0   \n",
       "220                         cognac frapin fontpinot xo  108.5          2.0   \n",
       "222     cognac frapin chateau de fontpinot 1989 20 ans  157.0          0.0   \n",
       "223                          cognac frapin cigar blend  104.0          1.0   \n",
       "228  chateau de puligny montrachet 1cru champ canet...  109.6          0.0   \n",
       "381  domaine des croix corton grand cru les greves ...  102.3          0.0   \n",
       "382  domaine des croix corton charlemagne grand cru...  137.0          5.0   \n",
       "426     david duband charmes chambertin grand cru 2014  217.5          0.0   \n",
       "431  domaine des comtes lafon volnay 1er cru santen...  105.0          0.0   \n",
       "432  domaine des comtes lafon volnay 1er cru santen...  105.0          0.0   \n",
       "437  champagne agrapart fils lavizoise grand cru 20...  112.0          0.0   \n",
       "438  champagne agrapart fils mineral extra brut bla...   86.8          0.0   \n",
       "502                      tempier bandol cabassaou 2017   92.0          0.0   \n",
       "511  domaine weinbach gewurztraminer gc furstentum ...  124.8          0.0   \n",
       "553                camille giroud clos de vougeot 2016  175.0          0.0   \n",
       "587  coteaux champenois egly ouriet ambonnay rouge ...  191.3          3.0   \n",
       "602       wemyss malts single cask chocolate moka cake   93.0          0.0   \n",
       "603  wemyss malts single cask scotch whisky choc n ...  122.0          0.0   \n",
       "604  wemyss malts single cask scotch whisky chai ca...  114.0          0.0   \n",
       "642             champagne gosset celebris vintage 2007  135.0          2.0   \n",
       "647  david duband chambolle musigny 1er cru les sen...  105.6          0.0   \n",
       "648          domaine clerget echezeaux en orveaux 2015  116.4          0.0   \n",
       "653  domaine des comtes lafon volnay 1er cru santen...  115.0          2.0   \n",
       "654  domaine des comtes lafon volnay 1er cru santen...  121.0          0.0   \n",
       "655  domaine des comtes lafon volnay 1er cru champa...   99.0          0.0   \n",
       "656  domaine des comtes lafon volnay 1er cru champa...  115.0          0.0   \n",
       "657  domaine des comtes lafon volnay 1er cru champa...  121.0          0.0   \n",
       "\n",
       "     stock_quantity stock_status  ca_product  \n",
       "64               11      instock         0.0  \n",
       "66                5      instock         0.0  \n",
       "200               0   outofstock      1125.0  \n",
       "202               2      instock      1391.5  \n",
       "206               0   outofstock        85.6  \n",
       "219               8      instock      2288.0  \n",
       "220               2      instock       217.0  \n",
       "222               3      instock         0.0  \n",
       "223               6      instock       104.0  \n",
       "228               7      instock         0.0  \n",
       "381              20      instock         0.0  \n",
       "382              13      instock       685.0  \n",
       "426              20      instock         0.0  \n",
       "431              17      instock         0.0  \n",
       "432              10      instock         0.0  \n",
       "437               0   outofstock         0.0  \n",
       "438               2      instock         0.0  \n",
       "502               0   outofstock         0.0  \n",
       "511              12      instock         0.0  \n",
       "553              12      instock         0.0  \n",
       "587              10      instock       573.9  \n",
       "602               3      instock         0.0  \n",
       "603               4      instock         0.0  \n",
       "604               8      instock         0.0  \n",
       "642              10      instock       270.0  \n",
       "647               7      instock         0.0  \n",
       "648              14      instock         0.0  \n",
       "653               2      instock       230.0  \n",
       "654               7      instock         0.0  \n",
       "655               7      instock         0.0  \n",
       "656               4      instock         0.0  \n",
       "657               6      instock         0.0  "
      ]
     },
     "execution_count": 45,
     "metadata": {},
     "output_type": "execute_result"
    }
   ],
   "source": [
    "data_sales[upper+lower]"
   ]
  },
  {
   "cell_type": "markdown",
   "id": "94eacfcc",
   "metadata": {},
   "source": [
    "## <a name=\"C13\">3.4. Chiffre d'affaire et catégories de prix :</a>  &emsp;&emsp;&emsp;&emsp;&emsp;&emsp;&emsp;&emsp;&emsp;&emsp;&emsp;&emsp;&emsp;&emsp;&emsp;&emsp;&emsp;&emsp;&emsp;&emsp;&emsp;&emsp;<a href=\"#C0\">Top </a>  "
   ]
  },
  {
   "cell_type": "markdown",
   "id": "8bdf1f49",
   "metadata": {},
   "source": [
    "On va procéder par la suite à une discrétisation de la variable \"prix\" afin d'étudier plus en détail le rapport entre les catégories de prix et le chiffre d'affaire."
   ]
  },
  {
   "cell_type": "code",
   "execution_count": 46,
   "id": "503c4004",
   "metadata": {},
   "outputs": [
    {
     "data": {
      "text/html": [
       "<div>\n",
       "<style scoped>\n",
       "    .dataframe tbody tr th:only-of-type {\n",
       "        vertical-align: middle;\n",
       "    }\n",
       "\n",
       "    .dataframe tbody tr th {\n",
       "        vertical-align: top;\n",
       "    }\n",
       "\n",
       "    .dataframe thead th {\n",
       "        text-align: right;\n",
       "    }\n",
       "</style>\n",
       "<table border=\"1\" class=\"dataframe\">\n",
       "  <thead>\n",
       "    <tr style=\"text-align: right;\">\n",
       "      <th></th>\n",
       "      <th>post_name</th>\n",
       "      <th>price</th>\n",
       "      <th>total_sales</th>\n",
       "      <th>stock_quantity</th>\n",
       "      <th>stock_status</th>\n",
       "      <th>ca_product</th>\n",
       "      <th>cat_price</th>\n",
       "    </tr>\n",
       "  </thead>\n",
       "  <tbody>\n",
       "    <tr>\n",
       "      <th>0</th>\n",
       "      <td>bon cadeau de 25 euros</td>\n",
       "      <td>25.0</td>\n",
       "      <td>10.0</td>\n",
       "      <td>0</td>\n",
       "      <td>outofstock</td>\n",
       "      <td>250.0</td>\n",
       "      <td>(23.55, 42.175]</td>\n",
       "    </tr>\n",
       "    <tr>\n",
       "      <th>1</th>\n",
       "      <td>pierre jean villa saint joseph preface 2018</td>\n",
       "      <td>24.2</td>\n",
       "      <td>6.0</td>\n",
       "      <td>0</td>\n",
       "      <td>outofstock</td>\n",
       "      <td>145.2</td>\n",
       "      <td>(23.55, 42.175]</td>\n",
       "    </tr>\n",
       "    <tr>\n",
       "      <th>2</th>\n",
       "      <td>pierre jean villa saint joseph tilde 2017</td>\n",
       "      <td>34.3</td>\n",
       "      <td>0.0</td>\n",
       "      <td>0</td>\n",
       "      <td>outofstock</td>\n",
       "      <td>0.0</td>\n",
       "      <td>(23.55, 42.175]</td>\n",
       "    </tr>\n",
       "    <tr>\n",
       "      <th>3</th>\n",
       "      <td>pierre jean villa croze hermitage accroche coe...</td>\n",
       "      <td>20.8</td>\n",
       "      <td>0.0</td>\n",
       "      <td>0</td>\n",
       "      <td>outofstock</td>\n",
       "      <td>0.0</td>\n",
       "      <td>(14.1, 23.55]</td>\n",
       "    </tr>\n",
       "    <tr>\n",
       "      <th>4</th>\n",
       "      <td>pierre jean villa igp gamine 2018</td>\n",
       "      <td>14.1</td>\n",
       "      <td>3.0</td>\n",
       "      <td>0</td>\n",
       "      <td>outofstock</td>\n",
       "      <td>42.3</td>\n",
       "      <td>(5.199, 14.1]</td>\n",
       "    </tr>\n",
       "  </tbody>\n",
       "</table>\n",
       "</div>"
      ],
      "text/plain": [
       "                                           post_name  price  total_sales  \\\n",
       "0                             bon cadeau de 25 euros   25.0         10.0   \n",
       "1        pierre jean villa saint joseph preface 2018   24.2          6.0   \n",
       "2          pierre jean villa saint joseph tilde 2017   34.3          0.0   \n",
       "3  pierre jean villa croze hermitage accroche coe...   20.8          0.0   \n",
       "4                  pierre jean villa igp gamine 2018   14.1          3.0   \n",
       "\n",
       "   stock_quantity stock_status  ca_product        cat_price  \n",
       "0               0   outofstock       250.0  (23.55, 42.175]  \n",
       "1               0   outofstock       145.2  (23.55, 42.175]  \n",
       "2               0   outofstock         0.0  (23.55, 42.175]  \n",
       "3               0   outofstock         0.0    (14.1, 23.55]  \n",
       "4               0   outofstock        42.3    (5.199, 14.1]  "
      ]
     },
     "execution_count": 46,
     "metadata": {},
     "output_type": "execute_result"
    }
   ],
   "source": [
    "# Création d'une colonne \"cat_price\" pour la catégorie de prix\n",
    "data_sales['cat_price'] = pd.qcut(data_sales.price, 4)\n",
    "data_sales.head()"
   ]
  },
  {
   "cell_type": "markdown",
   "id": "ed412cd9",
   "metadata": {},
   "source": [
    "Création d'une liste de chiffre d'affaire généré par catégorie de prix."
   ]
  },
  {
   "cell_type": "code",
   "execution_count": 47,
   "id": "3754f643",
   "metadata": {},
   "outputs": [
    {
     "data": {
      "text/plain": [
       "[16906.2, 13043.2, 10779.5, 29839.7]"
      ]
     },
     "execution_count": 47,
     "metadata": {},
     "output_type": "execute_result"
    }
   ],
   "source": [
    "liste_ca_cat_price = []\n",
    "for cat in data_sales['cat_price'].unique():\n",
    "    liste_ca_cat_price.append(data_sales[data_sales.cat_price == cat].ca_product.sum())\n",
    "liste_ca_cat_price"
   ]
  },
  {
   "cell_type": "markdown",
   "id": "f7eea1ed",
   "metadata": {},
   "source": [
    "Représentation graphique de répartition du chiffre d'affaire total par catégorie de prix à l'aide d'un diagramme circulaire. "
   ]
  },
  {
   "cell_type": "code",
   "execution_count": 48,
   "id": "1852c4f2",
   "metadata": {},
   "outputs": [
    {
     "data": {
      "image/png": "[encoded data removed]",
      "text/plain": [
       "<Figure size 432x432 with 1 Axes>"
      ]
     },
     "metadata": {},
     "output_type": "display_data"
    }
   ],
   "source": [
    "plt.figure(figsize = (6,6))\n",
    "colors = sns.color_palette(\"Set1\")\n",
    "plt.title(\"Répartition du CA par catégorie de prix\", fontweight =\"bold\")\n",
    "plt.pie(liste_ca_cat_price, labels = data_sales['cat_price'].unique(), autopct = '%0.0f%%')\n",
    "plt.show()"
   ]
  },
  {
   "cell_type": "markdown",
   "id": "a77b8d92",
   "metadata": {},
   "source": [
    "### Mesure de tendance centrale pour chaque catégorie de prix :"
   ]
  },
  {
   "cell_type": "code",
   "execution_count": 49,
   "id": "d0d556be",
   "metadata": {},
   "outputs": [
    {
     "name": "stdout",
     "output_type": "stream",
     "text": [
      "Catégorie de prix : (23.55, 42.175]\n",
      "*****************\n",
      "le mode du prix est égal à : 24.0 €\n",
      "la moyenne du prix est égale à : 31.33 €\n",
      "la mediane du prix est égale à : 29.9 €\n",
      "CA réalisé : 16906.2 €, soit 23.96 % du CA\n",
      "\n",
      "Deux représentations de la distribution du prix :\n"
     ]
    },
    {
     "data": {
      "image/png": "[encoded data removed]",
      "text/plain": [
       "<Figure size 1080x360 with 2 Axes>"
      ]
     },
     "metadata": {
      "needs_background": "light"
     },
     "output_type": "display_data"
    },
    {
     "name": "stdout",
     "output_type": "stream",
     "text": [
      "Catégorie de prix : (14.1, 23.55]\n",
      "*****************\n",
      "le mode du prix est égal à : 19.0 €\n",
      "la moyenne du prix est égale à : 18.48 €\n",
      "la mediane du prix est égale à : 18.2 €\n",
      "CA réalisé : 13043.2 €, soit 18.48 % du CA\n",
      "\n",
      "Deux représentations de la distribution du prix :\n"
     ]
    },
    {
     "data": {
      "image/png": "[encoded data removed]",
      "text/plain": [
       "<Figure size 1080x360 with 2 Axes>"
      ]
     },
     "metadata": {
      "needs_background": "light"
     },
     "output_type": "display_data"
    },
    {
     "name": "stdout",
     "output_type": "stream",
     "text": [
      "Catégorie de prix : (5.199, 14.1]\n",
      "*****************\n",
      "le mode du prix est égal à : 11.1 €\n",
      "la moyenne du prix est égale à : 10.56 €\n",
      "la mediane du prix est égale à : 10.8 €\n",
      "CA réalisé : 10779.5 €, soit 15.28 % du CA\n",
      "\n",
      "Deux représentations de la distribution du prix :\n"
     ]
    },
    {
     "data": {
      "image/png": "[encoded data removed]",
      "text/plain": [
       "<Figure size 1080x360 with 2 Axes>"
      ]
     },
     "metadata": {
      "needs_background": "light"
     },
     "output_type": "display_data"
    },
    {
     "name": "stdout",
     "output_type": "stream",
     "text": [
      "Catégorie de prix : (42.175, 225.0]\n",
      "*****************\n",
      "le mode du prix est égal à : 49.5 €\n",
      "la moyenne du prix est égale à : 69.6 €\n",
      "la mediane du prix est égale à : 59.0 €\n",
      "CA réalisé : 29839.7 €, soit 42.28 % du CA\n",
      "\n",
      "Deux représentations de la distribution du prix :\n"
     ]
    },
    {
     "data": {
      "image/png": "[encoded data removed]",
      "text/plain": [
       "<Figure size 1080x360 with 2 Axes>"
      ]
     },
     "metadata": {
      "needs_background": "light"
     },
     "output_type": "display_data"
    }
   ],
   "source": [
    "for cat in data_sales.cat_price.unique():\n",
    "    df = data_sales[data_sales.cat_price == cat]\n",
    "    print('Catégorie de prix :', cat)\n",
    "    print('*****************')\n",
    "    print('le mode du prix est égal à :' , df.price.mode()[0], '€')\n",
    "    print('la moyenne du prix est égale à :' , round(df.price.mean(), 2), '€')\n",
    "    print('la mediane du prix est égale à :' , df.price.median(), '€')\n",
    "    print('CA réalisé :', round(df.ca_product.sum(), 2),'€, soit',\n",
    "          round(df.ca_product.sum()*100/data_sales.ca_product.sum(), 2),'% du CA' )\n",
    "    print('\\nDeux représentations de la distribution du prix :')\n",
    "   \n",
    "    plt.figure(1,figsize=(15,5))\n",
    "    plt.subplot(1,2,1)\n",
    "    sns.histplot(data=df, x= df.price , kde=True, stat=\"percent\")\n",
    "    plt.subplot(1,2,2)\n",
    "    df.boxplot(column = 'price', vert = False)\n",
    "    plt.show()"
   ]
  },
  {
   "cell_type": "markdown",
   "id": "cb05beec",
   "metadata": {},
   "source": [
    "### les mesures de concentration :"
   ]
  },
  {
   "cell_type": "markdown",
   "id": "d30353f1",
   "metadata": {},
   "source": [
    "#### Etat des ventes à ce jour:"
   ]
  },
  {
   "cell_type": "markdown",
   "id": "e0ec5e11",
   "metadata": {},
   "source": [
    "A ce jour, seulement 54 % des produits vendus contribuent au CA total."
   ]
  },
  {
   "cell_type": "code",
   "execution_count": 50,
   "id": "3cce011d",
   "metadata": {},
   "outputs": [],
   "source": [
    "data_total_sales = data_sales.total_sales.value_counts(normalize = True)\n",
    "pr_product_sale = round(1 - data_total_sales[0], 2) * 100\n",
    "liste_etat_vente = [data_total_sales[0], 1 - data_total_sales[0]]"
   ]
  },
  {
   "cell_type": "code",
   "execution_count": 65,
   "id": "7e875e17",
   "metadata": {},
   "outputs": [
    {
     "name": "stdout",
     "output_type": "stream",
     "text": [
      "\u001b[1mSeulement 54.0 % des produits contribuent au chiffre d'affaire total\n"
     ]
    }
   ],
   "source": [
    "print('\\033[1m'+'Seulement',pr_product_sale, \"% des produits contribuent au chiffre d'affaire total\")"
   ]
  },
  {
   "cell_type": "code",
   "execution_count": 52,
   "id": "39453bef",
   "metadata": {
    "scrolled": true
   },
   "outputs": [
    {
     "data": {
      "image/png": "[encoded data removed]",
      "text/plain": [
       "<Figure size 432x432 with 1 Axes>"
      ]
     },
     "metadata": {},
     "output_type": "display_data"
    }
   ],
   "source": [
    "plt.figure(figsize = (6,6))\n",
    "colors = sns.color_palette(\"Set1\")\n",
    "labels = ['Produits non vendus', 'Produit vendus']\n",
    "plt.pie(liste_etat_vente, labels = labels, colors = colors, autopct = '%0.0f%%')\n",
    "plt.title(\"Etat des ventes à ce jour\", fontweight =\"bold\")\n",
    "plt.show()"
   ]
  },
  {
   "cell_type": "markdown",
   "id": "8b1637f1",
   "metadata": {},
   "source": [
    "#### Courbe de Lorenz et indice de Gini : "
   ]
  },
  {
   "cell_type": "markdown",
   "id": "e1d1ec83",
   "metadata": {},
   "source": [
    "On peut confirmer cette mauvaise répartition de la participation des produits dans la création du chiffre d'affaire grâce à la courbe de Lorenz et au calcul de l'indice de Gini."
   ]
  },
  {
   "cell_type": "code",
   "execution_count": 64,
   "id": "e5ffe61f",
   "metadata": {
    "scrolled": true
   },
   "outputs": [
    {
     "data": {
      "image/png": "[encoded data removed]",
      "text/plain": [
       "<Figure size 432x288 with 1 Axes>"
      ]
     },
     "metadata": {
      "needs_background": "light"
     },
     "output_type": "display_data"
    },
    {
     "name": "stdout",
     "output_type": "stream",
     "text": [
      "\u001b[1mSeul 54 % des produits générent le chiffre d'affaire total \n"
     ]
    }
   ],
   "source": [
    "# Courbe de Lorenz appliquée au chiffre d'affaire\n",
    "data = data_sales['ca_product']\n",
    "n = len(data)\n",
    "Y = np.cumsum(np.sort(data))/ data.sum()\n",
    "Y = np.append([0],Y) # La courbe de Lorenz commence à 0\n",
    "X = np.linspace(0-1/n,1+1/n,n+1) #Il y a un segment de taille n pour chaque individu, plus 1 segment supplémentaire d'ordonnée 0. Le premier segment commence à 0-1/n, et le dernier termine à 1+1/n.\n",
    "\n",
    "sns.lineplot(X, Y, color = 'yellow')\n",
    "sns.lineplot([0,1], [0,1], color = 'indigo')\n",
    "\n",
    "plt.arrow(0.46, 0, -0.40, 0, width = 0.01, ec ='red')\n",
    "plt.text(0.23, 0.05, '46%', color = 'red')\n",
    "plt.arrow(0.46, 0, 0.50, 0, width = 0.01, ec ='green')\n",
    "plt.text(0.73, 0.05, '54%', color = 'green')\n",
    "plt.show()\n",
    "print('\\033[1m'+\"Seul 54 % des produits générent le chiffre d'affaire total \")"
   ]
  },
  {
   "cell_type": "code",
   "execution_count": 63,
   "id": "d5f01ace",
   "metadata": {},
   "outputs": [
    {
     "name": "stdout",
     "output_type": "stream",
     "text": [
      "\u001b[1mL'indice de gini est égal à 0.8050420469738444 (proche de 1, ce qui confirme la mauvaise répartition de la participation des produits dans la création du chiffre d'affaire global).\n"
     ]
    }
   ],
   "source": [
    "# Calcul de l'indice de Gini\n",
    "AUC = (Y.sum() -Y[-1]/2 -Y[0]/2)/n \n",
    "S = 0.5 - AUC \n",
    "gini = 2*S\n",
    "print('\\033[1m'+\"L'indice de gini est égal à\", gini,\"(proche de 1, ce qui confirme la mauvaise répartition de la participation des produits dans la création du chiffre d'affaire global).\")"
   ]
  },
  {
   "cell_type": "markdown",
   "id": "aa792442",
   "metadata": {},
   "source": [
    "#### Volume des ventes :"
   ]
  },
  {
   "cell_type": "code",
   "execution_count": 55,
   "id": "a8861d18",
   "metadata": {},
   "outputs": [
    {
     "name": "stdout",
     "output_type": "stream",
     "text": [
      "Le volume total des ventes est de 2865.0 unités.\n"
     ]
    }
   ],
   "source": [
    "# Effectifs des nombre de ventes par produits\n",
    "data_product_total_sales = data_sales.total_sales.value_counts()\n",
    "# Produit des effectifs par le nombres de vente\n",
    "vol_vente = np.array(data_product_total_sales.index * data_product_total_sales.values).sum()\n",
    "print('Le volume total des ventes est de', vol_vente, 'unités.')"
   ]
  },
  {
   "cell_type": "markdown",
   "id": "2d72d5fe",
   "metadata": {},
   "source": [
    "#### Produits générants le plus haut/bas chiffre d'affaire : "
   ]
  },
  {
   "cell_type": "code",
   "execution_count": 56,
   "id": "ea773eab",
   "metadata": {},
   "outputs": [],
   "source": [
    "# liste des produits générants un CA strictement positif:\n",
    "data_sales_positif = data_sales[data_sales.total_sales != 0] "
   ]
  },
  {
   "cell_type": "code",
   "execution_count": 57,
   "id": "914acd7b",
   "metadata": {},
   "outputs": [
    {
     "data": {
      "text/html": [
       "<div>\n",
       "<style scoped>\n",
       "    .dataframe tbody tr th:only-of-type {\n",
       "        vertical-align: middle;\n",
       "    }\n",
       "\n",
       "    .dataframe tbody tr th {\n",
       "        vertical-align: top;\n",
       "    }\n",
       "\n",
       "    .dataframe thead th {\n",
       "        text-align: right;\n",
       "    }\n",
       "</style>\n",
       "<table border=\"1\" class=\"dataframe\">\n",
       "  <thead>\n",
       "    <tr style=\"text-align: right;\">\n",
       "      <th></th>\n",
       "      <th>post_name</th>\n",
       "      <th>price</th>\n",
       "      <th>total_sales</th>\n",
       "      <th>stock_quantity</th>\n",
       "      <th>stock_status</th>\n",
       "      <th>ca_product</th>\n",
       "      <th>cat_price</th>\n",
       "    </tr>\n",
       "  </thead>\n",
       "  <tbody>\n",
       "    <tr>\n",
       "      <th>195</th>\n",
       "      <td>champagne gosset grand blanc de blanc</td>\n",
       "      <td>49.0</td>\n",
       "      <td>96.0</td>\n",
       "      <td>0</td>\n",
       "      <td>outofstock</td>\n",
       "      <td>4704.0</td>\n",
       "      <td>(42.175, 225.0]</td>\n",
       "    </tr>\n",
       "    <tr>\n",
       "      <th>72</th>\n",
       "      <td>champagne gosset grand rose</td>\n",
       "      <td>49.0</td>\n",
       "      <td>87.0</td>\n",
       "      <td>11</td>\n",
       "      <td>instock</td>\n",
       "      <td>4263.0</td>\n",
       "      <td>(42.175, 225.0]</td>\n",
       "    </tr>\n",
       "    <tr>\n",
       "      <th>219</th>\n",
       "      <td>cognac frapin vip xo</td>\n",
       "      <td>176.0</td>\n",
       "      <td>13.0</td>\n",
       "      <td>8</td>\n",
       "      <td>instock</td>\n",
       "      <td>2288.0</td>\n",
       "      <td>(42.175, 225.0]</td>\n",
       "    </tr>\n",
       "    <tr>\n",
       "      <th>71</th>\n",
       "      <td>champagne gosset grand millesime 2006</td>\n",
       "      <td>53.0</td>\n",
       "      <td>30.0</td>\n",
       "      <td>8</td>\n",
       "      <td>instock</td>\n",
       "      <td>1590.0</td>\n",
       "      <td>(42.175, 225.0]</td>\n",
       "    </tr>\n",
       "    <tr>\n",
       "      <th>70</th>\n",
       "      <td>gosset champagne grande reserve</td>\n",
       "      <td>39.0</td>\n",
       "      <td>40.0</td>\n",
       "      <td>1</td>\n",
       "      <td>instock</td>\n",
       "      <td>1560.0</td>\n",
       "      <td>(23.55, 42.175]</td>\n",
       "    </tr>\n",
       "    <tr>\n",
       "      <th>202</th>\n",
       "      <td>champagne egly ouriet grand cru brut blanc de ...</td>\n",
       "      <td>126.5</td>\n",
       "      <td>11.0</td>\n",
       "      <td>2</td>\n",
       "      <td>instock</td>\n",
       "      <td>1391.5</td>\n",
       "      <td>(42.175, 225.0]</td>\n",
       "    </tr>\n",
       "    <tr>\n",
       "      <th>200</th>\n",
       "      <td>champagne egly ouriet grand cru millesime 2008</td>\n",
       "      <td>225.0</td>\n",
       "      <td>5.0</td>\n",
       "      <td>0</td>\n",
       "      <td>outofstock</td>\n",
       "      <td>1125.0</td>\n",
       "      <td>(42.175, 225.0]</td>\n",
       "    </tr>\n",
       "    <tr>\n",
       "      <th>80</th>\n",
       "      <td>elian daros cotes du marmandais clos baquey 2015</td>\n",
       "      <td>29.0</td>\n",
       "      <td>36.0</td>\n",
       "      <td>0</td>\n",
       "      <td>outofstock</td>\n",
       "      <td>1044.0</td>\n",
       "      <td>(23.55, 42.175]</td>\n",
       "    </tr>\n",
       "    <tr>\n",
       "      <th>651</th>\n",
       "      <td>domaine giudicelli patrimonio blanc 2019</td>\n",
       "      <td>25.2</td>\n",
       "      <td>41.0</td>\n",
       "      <td>120</td>\n",
       "      <td>instock</td>\n",
       "      <td>1033.2</td>\n",
       "      <td>(23.55, 42.175]</td>\n",
       "    </tr>\n",
       "    <tr>\n",
       "      <th>31</th>\n",
       "      <td>gilles robin crozes hermitage papillon 2019</td>\n",
       "      <td>16.6</td>\n",
       "      <td>62.0</td>\n",
       "      <td>157</td>\n",
       "      <td>instock</td>\n",
       "      <td>1029.2</td>\n",
       "      <td>(14.1, 23.55]</td>\n",
       "    </tr>\n",
       "  </tbody>\n",
       "</table>\n",
       "</div>"
      ],
      "text/plain": [
       "                                             post_name  price  total_sales  \\\n",
       "195              champagne gosset grand blanc de blanc   49.0         96.0   \n",
       "72                         champagne gosset grand rose   49.0         87.0   \n",
       "219                               cognac frapin vip xo  176.0         13.0   \n",
       "71               champagne gosset grand millesime 2006   53.0         30.0   \n",
       "70                     gosset champagne grande reserve   39.0         40.0   \n",
       "202  champagne egly ouriet grand cru brut blanc de ...  126.5         11.0   \n",
       "200     champagne egly ouriet grand cru millesime 2008  225.0          5.0   \n",
       "80    elian daros cotes du marmandais clos baquey 2015   29.0         36.0   \n",
       "651           domaine giudicelli patrimonio blanc 2019   25.2         41.0   \n",
       "31         gilles robin crozes hermitage papillon 2019   16.6         62.0   \n",
       "\n",
       "     stock_quantity stock_status  ca_product        cat_price  \n",
       "195               0   outofstock      4704.0  (42.175, 225.0]  \n",
       "72               11      instock      4263.0  (42.175, 225.0]  \n",
       "219               8      instock      2288.0  (42.175, 225.0]  \n",
       "71                8      instock      1590.0  (42.175, 225.0]  \n",
       "70                1      instock      1560.0  (23.55, 42.175]  \n",
       "202               2      instock      1391.5  (42.175, 225.0]  \n",
       "200               0   outofstock      1125.0  (42.175, 225.0]  \n",
       "80                0   outofstock      1044.0  (23.55, 42.175]  \n",
       "651             120      instock      1033.2  (23.55, 42.175]  \n",
       "31              157      instock      1029.2    (14.1, 23.55]  "
      ]
     },
     "execution_count": 57,
     "metadata": {},
     "output_type": "execute_result"
    }
   ],
   "source": [
    "# les dix produits avec le plus haut CA:\n",
    "data_sales_positif.nlargest(10, 'ca_product')"
   ]
  },
  {
   "cell_type": "code",
   "execution_count": 58,
   "id": "a8608e1d",
   "metadata": {},
   "outputs": [
    {
     "data": {
      "text/html": [
       "<div>\n",
       "<style scoped>\n",
       "    .dataframe tbody tr th:only-of-type {\n",
       "        vertical-align: middle;\n",
       "    }\n",
       "\n",
       "    .dataframe tbody tr th {\n",
       "        vertical-align: top;\n",
       "    }\n",
       "\n",
       "    .dataframe thead th {\n",
       "        text-align: right;\n",
       "    }\n",
       "</style>\n",
       "<table border=\"1\" class=\"dataframe\">\n",
       "  <thead>\n",
       "    <tr style=\"text-align: right;\">\n",
       "      <th></th>\n",
       "      <th>post_name</th>\n",
       "      <th>price</th>\n",
       "      <th>total_sales</th>\n",
       "      <th>stock_quantity</th>\n",
       "      <th>stock_status</th>\n",
       "      <th>ca_product</th>\n",
       "      <th>cat_price</th>\n",
       "    </tr>\n",
       "  </thead>\n",
       "  <tbody>\n",
       "    <tr>\n",
       "      <th>360</th>\n",
       "      <td>chateau turcaud rose 2019</td>\n",
       "      <td>6.5</td>\n",
       "      <td>1.0</td>\n",
       "      <td>257</td>\n",
       "      <td>instock</td>\n",
       "      <td>6.5</td>\n",
       "      <td>(5.199, 14.1]</td>\n",
       "    </tr>\n",
       "    <tr>\n",
       "      <th>441</th>\n",
       "      <td>domaine de montgilet anjou rouge 2016 2</td>\n",
       "      <td>7.5</td>\n",
       "      <td>1.0</td>\n",
       "      <td>9</td>\n",
       "      <td>instock</td>\n",
       "      <td>7.5</td>\n",
       "      <td>(5.199, 14.1]</td>\n",
       "    </tr>\n",
       "    <tr>\n",
       "      <th>97</th>\n",
       "      <td>ollieux romanis monsieur pinot 2017</td>\n",
       "      <td>7.8</td>\n",
       "      <td>1.0</td>\n",
       "      <td>65</td>\n",
       "      <td>instock</td>\n",
       "      <td>7.8</td>\n",
       "      <td>(5.199, 14.1]</td>\n",
       "    </tr>\n",
       "    <tr>\n",
       "      <th>150</th>\n",
       "      <td>parce freres hommage fernand blanc 2019</td>\n",
       "      <td>8.9</td>\n",
       "      <td>1.0</td>\n",
       "      <td>7</td>\n",
       "      <td>instock</td>\n",
       "      <td>8.9</td>\n",
       "      <td>(5.199, 14.1]</td>\n",
       "    </tr>\n",
       "    <tr>\n",
       "      <th>153</th>\n",
       "      <td>parce freres igp pays oc zoe viognier 2019</td>\n",
       "      <td>8.9</td>\n",
       "      <td>1.0</td>\n",
       "      <td>141</td>\n",
       "      <td>instock</td>\n",
       "      <td>8.9</td>\n",
       "      <td>(5.199, 14.1]</td>\n",
       "    </tr>\n",
       "    <tr>\n",
       "      <th>296</th>\n",
       "      <td>chateau plaisance fronton rose 2019</td>\n",
       "      <td>9.1</td>\n",
       "      <td>1.0</td>\n",
       "      <td>42</td>\n",
       "      <td>instock</td>\n",
       "      <td>9.1</td>\n",
       "      <td>(5.199, 14.1]</td>\n",
       "    </tr>\n",
       "    <tr>\n",
       "      <th>174</th>\n",
       "      <td>domaine serol cote roannaise cabochard 2016</td>\n",
       "      <td>9.2</td>\n",
       "      <td>1.0</td>\n",
       "      <td>25</td>\n",
       "      <td>instock</td>\n",
       "      <td>9.2</td>\n",
       "      <td>(5.199, 14.1]</td>\n",
       "    </tr>\n",
       "    <tr>\n",
       "      <th>628</th>\n",
       "      <td>borie la vitarele pays herault cigales 2019</td>\n",
       "      <td>9.3</td>\n",
       "      <td>1.0</td>\n",
       "      <td>124</td>\n",
       "      <td>instock</td>\n",
       "      <td>9.3</td>\n",
       "      <td>(5.199, 14.1]</td>\n",
       "    </tr>\n",
       "    <tr>\n",
       "      <th>290</th>\n",
       "      <td>domaine rotier gaillac rouge les gravels 2016</td>\n",
       "      <td>9.5</td>\n",
       "      <td>1.0</td>\n",
       "      <td>161</td>\n",
       "      <td>instock</td>\n",
       "      <td>9.5</td>\n",
       "      <td>(5.199, 14.1]</td>\n",
       "    </tr>\n",
       "    <tr>\n",
       "      <th>164</th>\n",
       "      <td>chermette domaine du vissoux beaujolais griott...</td>\n",
       "      <td>9.9</td>\n",
       "      <td>1.0</td>\n",
       "      <td>89</td>\n",
       "      <td>instock</td>\n",
       "      <td>9.9</td>\n",
       "      <td>(5.199, 14.1]</td>\n",
       "    </tr>\n",
       "  </tbody>\n",
       "</table>\n",
       "</div>"
      ],
      "text/plain": [
       "                                             post_name  price  total_sales  \\\n",
       "360                          chateau turcaud rose 2019    6.5          1.0   \n",
       "441            domaine de montgilet anjou rouge 2016 2    7.5          1.0   \n",
       "97                 ollieux romanis monsieur pinot 2017    7.8          1.0   \n",
       "150            parce freres hommage fernand blanc 2019    8.9          1.0   \n",
       "153         parce freres igp pays oc zoe viognier 2019    8.9          1.0   \n",
       "296                chateau plaisance fronton rose 2019    9.1          1.0   \n",
       "174        domaine serol cote roannaise cabochard 2016    9.2          1.0   \n",
       "628        borie la vitarele pays herault cigales 2019    9.3          1.0   \n",
       "290      domaine rotier gaillac rouge les gravels 2016    9.5          1.0   \n",
       "164  chermette domaine du vissoux beaujolais griott...    9.9          1.0   \n",
       "\n",
       "     stock_quantity stock_status  ca_product      cat_price  \n",
       "360             257      instock         6.5  (5.199, 14.1]  \n",
       "441               9      instock         7.5  (5.199, 14.1]  \n",
       "97               65      instock         7.8  (5.199, 14.1]  \n",
       "150               7      instock         8.9  (5.199, 14.1]  \n",
       "153             141      instock         8.9  (5.199, 14.1]  \n",
       "296              42      instock         9.1  (5.199, 14.1]  \n",
       "174              25      instock         9.2  (5.199, 14.1]  \n",
       "628             124      instock         9.3  (5.199, 14.1]  \n",
       "290             161      instock         9.5  (5.199, 14.1]  \n",
       "164              89      instock         9.9  (5.199, 14.1]  "
      ]
     },
     "execution_count": 58,
     "metadata": {},
     "output_type": "execute_result"
    }
   ],
   "source": [
    "# les dix produits avec le plus bas chiffre d'affaire \n",
    "data_sales_positif.nsmallest(10, 'ca_product')"
   ]
  },
  {
   "cell_type": "markdown",
   "id": "f206d23b",
   "metadata": {},
   "source": [
    "#### Produits non vendus à ce jour :"
   ]
  },
  {
   "cell_type": "code",
   "execution_count": 59,
   "id": "e8489891",
   "metadata": {},
   "outputs": [
    {
     "data": {
      "text/html": [
       "<div>\n",
       "<style scoped>\n",
       "    .dataframe tbody tr th:only-of-type {\n",
       "        vertical-align: middle;\n",
       "    }\n",
       "\n",
       "    .dataframe tbody tr th {\n",
       "        vertical-align: top;\n",
       "    }\n",
       "\n",
       "    .dataframe thead th {\n",
       "        text-align: right;\n",
       "    }\n",
       "</style>\n",
       "<table border=\"1\" class=\"dataframe\">\n",
       "  <thead>\n",
       "    <tr style=\"text-align: right;\">\n",
       "      <th></th>\n",
       "      <th>post_name</th>\n",
       "    </tr>\n",
       "  </thead>\n",
       "  <tbody>\n",
       "    <tr>\n",
       "      <th>2</th>\n",
       "      <td>pierre jean villa saint joseph tilde 2017</td>\n",
       "    </tr>\n",
       "    <tr>\n",
       "      <th>3</th>\n",
       "      <td>pierre jean villa croze hermitage accroche coe...</td>\n",
       "    </tr>\n",
       "    <tr>\n",
       "      <th>5</th>\n",
       "      <td>pierre jean villa cote rotie carmina 2017</td>\n",
       "    </tr>\n",
       "    <tr>\n",
       "      <th>6</th>\n",
       "      <td>pierre jean villa saint joseph saut ange 2018</td>\n",
       "    </tr>\n",
       "    <tr>\n",
       "      <th>7</th>\n",
       "      <td>pierre gaillard condrieu 2018</td>\n",
       "    </tr>\n",
       "    <tr>\n",
       "      <th>...</th>\n",
       "      <td>...</td>\n",
       "    </tr>\n",
       "    <tr>\n",
       "      <th>706</th>\n",
       "      <td>jean faure saint emilion grand cru 2015</td>\n",
       "    </tr>\n",
       "    <tr>\n",
       "      <th>710</th>\n",
       "      <td>camin larredya jurancon sec la virada 2018</td>\n",
       "    </tr>\n",
       "    <tr>\n",
       "      <th>711</th>\n",
       "      <td>jamet cote rotie fructus voluptas 2018</td>\n",
       "    </tr>\n",
       "    <tr>\n",
       "      <th>712</th>\n",
       "      <td>clos du mont olivet chateauneuf du pape 2007 2</td>\n",
       "    </tr>\n",
       "    <tr>\n",
       "      <th>713</th>\n",
       "      <td>domaine saint nicolas fiefs vendeens blanc les...</td>\n",
       "    </tr>\n",
       "  </tbody>\n",
       "</table>\n",
       "<p>329 rows × 1 columns</p>\n",
       "</div>"
      ],
      "text/plain": [
       "                                             post_name\n",
       "2            pierre jean villa saint joseph tilde 2017\n",
       "3    pierre jean villa croze hermitage accroche coe...\n",
       "5            pierre jean villa cote rotie carmina 2017\n",
       "6        pierre jean villa saint joseph saut ange 2018\n",
       "7                        pierre gaillard condrieu 2018\n",
       "..                                                 ...\n",
       "706            jean faure saint emilion grand cru 2015\n",
       "710         camin larredya jurancon sec la virada 2018\n",
       "711             jamet cote rotie fructus voluptas 2018\n",
       "712     clos du mont olivet chateauneuf du pape 2007 2\n",
       "713  domaine saint nicolas fiefs vendeens blanc les...\n",
       "\n",
       "[329 rows x 1 columns]"
      ]
     },
     "execution_count": 59,
     "metadata": {},
     "output_type": "execute_result"
    }
   ],
   "source": [
    "data_sales[['post_name']][data_sales.total_sales == 0]"
   ]
  },
  {
   "cell_type": "markdown",
   "id": "a81e6ede",
   "metadata": {},
   "source": [
    "## <a name=\"C14\">3.5. Recherche de correlation entre les variables :</a> &emsp;&emsp;&emsp;&emsp;&emsp;&emsp;&emsp;&emsp;&emsp;&emsp;&emsp;&emsp;&emsp;&emsp;&emsp;&emsp;&emsp;&emsp;<a href=\"#C0\">Top </a> "
   ]
  },
  {
   "cell_type": "markdown",
   "id": "8895a000",
   "metadata": {},
   "source": [
    "#### Matrice de correlation :"
   ]
  },
  {
   "cell_type": "code",
   "execution_count": 60,
   "id": "3c612f1b",
   "metadata": {},
   "outputs": [
    {
     "data": {
      "text/html": [
       "<div>\n",
       "<style scoped>\n",
       "    .dataframe tbody tr th:only-of-type {\n",
       "        vertical-align: middle;\n",
       "    }\n",
       "\n",
       "    .dataframe tbody tr th {\n",
       "        vertical-align: top;\n",
       "    }\n",
       "\n",
       "    .dataframe thead th {\n",
       "        text-align: right;\n",
       "    }\n",
       "</style>\n",
       "<table border=\"1\" class=\"dataframe\">\n",
       "  <thead>\n",
       "    <tr style=\"text-align: right;\">\n",
       "      <th></th>\n",
       "      <th>price</th>\n",
       "      <th>total_sales</th>\n",
       "      <th>stock_quantity</th>\n",
       "    </tr>\n",
       "  </thead>\n",
       "  <tbody>\n",
       "    <tr>\n",
       "      <th>price</th>\n",
       "      <td>1.000000</td>\n",
       "      <td>-0.133353</td>\n",
       "      <td>-0.293144</td>\n",
       "    </tr>\n",
       "    <tr>\n",
       "      <th>total_sales</th>\n",
       "      <td>-0.133353</td>\n",
       "      <td>1.000000</td>\n",
       "      <td>0.273654</td>\n",
       "    </tr>\n",
       "    <tr>\n",
       "      <th>stock_quantity</th>\n",
       "      <td>-0.293144</td>\n",
       "      <td>0.273654</td>\n",
       "      <td>1.000000</td>\n",
       "    </tr>\n",
       "  </tbody>\n",
       "</table>\n",
       "</div>"
      ],
      "text/plain": [
       "                   price  total_sales  stock_quantity\n",
       "price           1.000000    -0.133353       -0.293144\n",
       "total_sales    -0.133353     1.000000        0.273654\n",
       "stock_quantity -0.293144     0.273654        1.000000"
      ]
     },
     "execution_count": 60,
     "metadata": {},
     "output_type": "execute_result"
    }
   ],
   "source": [
    "data_sales_corr = data_sales[['price', 'total_sales', 'stock_quantity']].corr()\n",
    "data_sales_corr"
   ]
  },
  {
   "cell_type": "code",
   "execution_count": 61,
   "id": "a4a1dbae",
   "metadata": {},
   "outputs": [
    {
     "data": {
      "image/png": "[encoded data removed]",
      "text/plain": [
       "<Figure size 432x288 with 2 Axes>"
      ]
     },
     "metadata": {
      "needs_background": "light"
     },
     "output_type": "display_data"
    }
   ],
   "source": [
    "# Représentation graphique type \"carte-chaleur\" des corrélations entre variables :\n",
    "sns.heatmap(data_sales_corr)\n",
    "plt.show()"
   ]
  },
  {
   "cell_type": "markdown",
   "id": "aef2c1df",
   "metadata": {},
   "source": [
    "#### Conclusion : Il n'existe pas de corrélation entre ces variables quantitaives."
   ]
  },
  {
   "cell_type": "code",
   "execution_count": null,
   "id": "6f5d8f4d",
   "metadata": {},
   "outputs": [],
   "source": []
  },
  {
   "cell_type": "code",
   "execution_count": null,
   "id": "869236f2",
   "metadata": {},
   "outputs": [],
   "source": []
  }
 ],
 "metadata": {
  "kernelspec": {
   "display_name": "Python 3 (ipykernel)",
   "language": "python",
   "name": "python3"
  },
  "language_info": {
   "codemirror_mode": {
    "name": "ipython",
    "version": 3
   },
   "file_extension": ".py",
   "mimetype": "text/x-python",
   "name": "python",
   "nbconvert_exporter": "python",
   "pygments_lexer": "ipython3",
   "version": "3.9.12"
  }
 },
 "nbformat": 4,
 "nbformat_minor": 5
}
